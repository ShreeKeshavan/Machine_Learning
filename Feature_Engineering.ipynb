{
  "nbformat": 4,
  "nbformat_minor": 0,
  "metadata": {
    "colab": {
      "provenance": [],
      "authorship_tag": "ABX9TyNX1lyIjjqMVKXb2gxqPDN2",
      "include_colab_link": true
    },
    "kernelspec": {
      "name": "python3",
      "display_name": "Python 3"
    },
    "language_info": {
      "name": "python"
    }
  },
  "cells": [
    {
      "cell_type": "markdown",
      "metadata": {
        "id": "view-in-github",
        "colab_type": "text"
      },
      "source": [
        "<a href=\"https://colab.research.google.com/github/ShreeKeshavan/Machine_Learning/blob/main/Feature_Engineering.ipynb\" target=\"_parent\"><img src=\"https://colab.research.google.com/assets/colab-badge.svg\" alt=\"Open In Colab\"/></a>"
      ]
    },
    {
      "cell_type": "markdown",
      "source": [
        "## **VarianceThreshold**"
      ],
      "metadata": {
        "id": "JzmS_8_39WUe"
      }
    },
    {
      "cell_type": "code",
      "execution_count": 10,
      "metadata": {
        "id": "4bn8Pji15Hvk"
      },
      "outputs": [],
      "source": [
        "from sklearn.datasets import load_iris\n",
        "import pandas as pd\n",
        "from sklearn.feature_selection import VarianceThreshold"
      ]
    },
    {
      "cell_type": "code",
      "source": [
        "X,y = load_iris(as_frame =True, return_X_y= True) #is to seperate the data as x and y"
      ],
      "metadata": {
        "id": "iXxaEZLn5dw6"
      },
      "execution_count": 3,
      "outputs": []
    },
    {
      "cell_type": "code",
      "source": [
        "X"
      ],
      "metadata": {
        "colab": {
          "base_uri": "https://localhost:8080/",
          "height": 423
        },
        "id": "qR-9S0pF5-9Z",
        "outputId": "032c73ae-166e-442e-d8c1-90e60288e18f"
      },
      "execution_count": 4,
      "outputs": [
        {
          "output_type": "execute_result",
          "data": {
            "text/plain": [
              "     sepal length (cm)  sepal width (cm)  petal length (cm)  petal width (cm)\n",
              "0                  5.1               3.5                1.4               0.2\n",
              "1                  4.9               3.0                1.4               0.2\n",
              "2                  4.7               3.2                1.3               0.2\n",
              "3                  4.6               3.1                1.5               0.2\n",
              "4                  5.0               3.6                1.4               0.2\n",
              "..                 ...               ...                ...               ...\n",
              "145                6.7               3.0                5.2               2.3\n",
              "146                6.3               2.5                5.0               1.9\n",
              "147                6.5               3.0                5.2               2.0\n",
              "148                6.2               3.4                5.4               2.3\n",
              "149                5.9               3.0                5.1               1.8\n",
              "\n",
              "[150 rows x 4 columns]"
            ],
            "text/html": [
              "\n",
              "  <div id=\"df-7b2fc594-9f86-413f-834d-4af0cc7badf1\">\n",
              "    <div class=\"colab-df-container\">\n",
              "      <div>\n",
              "<style scoped>\n",
              "    .dataframe tbody tr th:only-of-type {\n",
              "        vertical-align: middle;\n",
              "    }\n",
              "\n",
              "    .dataframe tbody tr th {\n",
              "        vertical-align: top;\n",
              "    }\n",
              "\n",
              "    .dataframe thead th {\n",
              "        text-align: right;\n",
              "    }\n",
              "</style>\n",
              "<table border=\"1\" class=\"dataframe\">\n",
              "  <thead>\n",
              "    <tr style=\"text-align: right;\">\n",
              "      <th></th>\n",
              "      <th>sepal length (cm)</th>\n",
              "      <th>sepal width (cm)</th>\n",
              "      <th>petal length (cm)</th>\n",
              "      <th>petal width (cm)</th>\n",
              "    </tr>\n",
              "  </thead>\n",
              "  <tbody>\n",
              "    <tr>\n",
              "      <th>0</th>\n",
              "      <td>5.1</td>\n",
              "      <td>3.5</td>\n",
              "      <td>1.4</td>\n",
              "      <td>0.2</td>\n",
              "    </tr>\n",
              "    <tr>\n",
              "      <th>1</th>\n",
              "      <td>4.9</td>\n",
              "      <td>3.0</td>\n",
              "      <td>1.4</td>\n",
              "      <td>0.2</td>\n",
              "    </tr>\n",
              "    <tr>\n",
              "      <th>2</th>\n",
              "      <td>4.7</td>\n",
              "      <td>3.2</td>\n",
              "      <td>1.3</td>\n",
              "      <td>0.2</td>\n",
              "    </tr>\n",
              "    <tr>\n",
              "      <th>3</th>\n",
              "      <td>4.6</td>\n",
              "      <td>3.1</td>\n",
              "      <td>1.5</td>\n",
              "      <td>0.2</td>\n",
              "    </tr>\n",
              "    <tr>\n",
              "      <th>4</th>\n",
              "      <td>5.0</td>\n",
              "      <td>3.6</td>\n",
              "      <td>1.4</td>\n",
              "      <td>0.2</td>\n",
              "    </tr>\n",
              "    <tr>\n",
              "      <th>...</th>\n",
              "      <td>...</td>\n",
              "      <td>...</td>\n",
              "      <td>...</td>\n",
              "      <td>...</td>\n",
              "    </tr>\n",
              "    <tr>\n",
              "      <th>145</th>\n",
              "      <td>6.7</td>\n",
              "      <td>3.0</td>\n",
              "      <td>5.2</td>\n",
              "      <td>2.3</td>\n",
              "    </tr>\n",
              "    <tr>\n",
              "      <th>146</th>\n",
              "      <td>6.3</td>\n",
              "      <td>2.5</td>\n",
              "      <td>5.0</td>\n",
              "      <td>1.9</td>\n",
              "    </tr>\n",
              "    <tr>\n",
              "      <th>147</th>\n",
              "      <td>6.5</td>\n",
              "      <td>3.0</td>\n",
              "      <td>5.2</td>\n",
              "      <td>2.0</td>\n",
              "    </tr>\n",
              "    <tr>\n",
              "      <th>148</th>\n",
              "      <td>6.2</td>\n",
              "      <td>3.4</td>\n",
              "      <td>5.4</td>\n",
              "      <td>2.3</td>\n",
              "    </tr>\n",
              "    <tr>\n",
              "      <th>149</th>\n",
              "      <td>5.9</td>\n",
              "      <td>3.0</td>\n",
              "      <td>5.1</td>\n",
              "      <td>1.8</td>\n",
              "    </tr>\n",
              "  </tbody>\n",
              "</table>\n",
              "<p>150 rows × 4 columns</p>\n",
              "</div>\n",
              "      <button class=\"colab-df-convert\" onclick=\"convertToInteractive('df-7b2fc594-9f86-413f-834d-4af0cc7badf1')\"\n",
              "              title=\"Convert this dataframe to an interactive table.\"\n",
              "              style=\"display:none;\">\n",
              "        \n",
              "  <svg xmlns=\"http://www.w3.org/2000/svg\" height=\"24px\"viewBox=\"0 0 24 24\"\n",
              "       width=\"24px\">\n",
              "    <path d=\"M0 0h24v24H0V0z\" fill=\"none\"/>\n",
              "    <path d=\"M18.56 5.44l.94 2.06.94-2.06 2.06-.94-2.06-.94-.94-2.06-.94 2.06-2.06.94zm-11 1L8.5 8.5l.94-2.06 2.06-.94-2.06-.94L8.5 2.5l-.94 2.06-2.06.94zm10 10l.94 2.06.94-2.06 2.06-.94-2.06-.94-.94-2.06-.94 2.06-2.06.94z\"/><path d=\"M17.41 7.96l-1.37-1.37c-.4-.4-.92-.59-1.43-.59-.52 0-1.04.2-1.43.59L10.3 9.45l-7.72 7.72c-.78.78-.78 2.05 0 2.83L4 21.41c.39.39.9.59 1.41.59.51 0 1.02-.2 1.41-.59l7.78-7.78 2.81-2.81c.8-.78.8-2.07 0-2.86zM5.41 20L4 18.59l7.72-7.72 1.47 1.35L5.41 20z\"/>\n",
              "  </svg>\n",
              "      </button>\n",
              "      \n",
              "  <style>\n",
              "    .colab-df-container {\n",
              "      display:flex;\n",
              "      flex-wrap:wrap;\n",
              "      gap: 12px;\n",
              "    }\n",
              "\n",
              "    .colab-df-convert {\n",
              "      background-color: #E8F0FE;\n",
              "      border: none;\n",
              "      border-radius: 50%;\n",
              "      cursor: pointer;\n",
              "      display: none;\n",
              "      fill: #1967D2;\n",
              "      height: 32px;\n",
              "      padding: 0 0 0 0;\n",
              "      width: 32px;\n",
              "    }\n",
              "\n",
              "    .colab-df-convert:hover {\n",
              "      background-color: #E2EBFA;\n",
              "      box-shadow: 0px 1px 2px rgba(60, 64, 67, 0.3), 0px 1px 3px 1px rgba(60, 64, 67, 0.15);\n",
              "      fill: #174EA6;\n",
              "    }\n",
              "\n",
              "    [theme=dark] .colab-df-convert {\n",
              "      background-color: #3B4455;\n",
              "      fill: #D2E3FC;\n",
              "    }\n",
              "\n",
              "    [theme=dark] .colab-df-convert:hover {\n",
              "      background-color: #434B5C;\n",
              "      box-shadow: 0px 1px 3px 1px rgba(0, 0, 0, 0.15);\n",
              "      filter: drop-shadow(0px 1px 2px rgba(0, 0, 0, 0.3));\n",
              "      fill: #FFFFFF;\n",
              "    }\n",
              "  </style>\n",
              "\n",
              "      <script>\n",
              "        const buttonEl =\n",
              "          document.querySelector('#df-7b2fc594-9f86-413f-834d-4af0cc7badf1 button.colab-df-convert');\n",
              "        buttonEl.style.display =\n",
              "          google.colab.kernel.accessAllowed ? 'block' : 'none';\n",
              "\n",
              "        async function convertToInteractive(key) {\n",
              "          const element = document.querySelector('#df-7b2fc594-9f86-413f-834d-4af0cc7badf1');\n",
              "          const dataTable =\n",
              "            await google.colab.kernel.invokeFunction('convertToInteractive',\n",
              "                                                     [key], {});\n",
              "          if (!dataTable) return;\n",
              "\n",
              "          const docLinkHtml = 'Like what you see? Visit the ' +\n",
              "            '<a target=\"_blank\" href=https://colab.research.google.com/notebooks/data_table.ipynb>data table notebook</a>'\n",
              "            + ' to learn more about interactive tables.';\n",
              "          element.innerHTML = '';\n",
              "          dataTable['output_type'] = 'display_data';\n",
              "          await google.colab.output.renderOutput(dataTable, element);\n",
              "          const docLink = document.createElement('div');\n",
              "          docLink.innerHTML = docLinkHtml;\n",
              "          element.appendChild(docLink);\n",
              "        }\n",
              "      </script>\n",
              "    </div>\n",
              "  </div>\n",
              "  "
            ]
          },
          "metadata": {},
          "execution_count": 4
        }
      ]
    },
    {
      "cell_type": "code",
      "source": [
        "y"
      ],
      "metadata": {
        "colab": {
          "base_uri": "https://localhost:8080/"
        },
        "id": "45M446Tz6KxH",
        "outputId": "e019b473-3e34-4b84-d7a2-07f3dd8849a7"
      },
      "execution_count": 5,
      "outputs": [
        {
          "output_type": "execute_result",
          "data": {
            "text/plain": [
              "0      0\n",
              "1      0\n",
              "2      0\n",
              "3      0\n",
              "4      0\n",
              "      ..\n",
              "145    2\n",
              "146    2\n",
              "147    2\n",
              "148    2\n",
              "149    2\n",
              "Name: target, Length: 150, dtype: int64"
            ]
          },
          "metadata": {},
          "execution_count": 5
        }
      ]
    },
    {
      "cell_type": "code",
      "source": [
        "type(X)"
      ],
      "metadata": {
        "colab": {
          "base_uri": "https://localhost:8080/"
        },
        "id": "f2daCVcV6P5Z",
        "outputId": "9e486934-57b8-4cc6-f41b-a17988b17e41"
      },
      "execution_count": 6,
      "outputs": [
        {
          "output_type": "execute_result",
          "data": {
            "text/plain": [
              "pandas.core.frame.DataFrame"
            ]
          },
          "metadata": {},
          "execution_count": 6
        }
      ]
    },
    {
      "cell_type": "code",
      "source": [
        "X.shape"
      ],
      "metadata": {
        "colab": {
          "base_uri": "https://localhost:8080/"
        },
        "id": "DD6G6qcR6Sdi",
        "outputId": "4d547a7a-c436-4709-f842-35c1832ed100"
      },
      "execution_count": 8,
      "outputs": [
        {
          "output_type": "execute_result",
          "data": {
            "text/plain": [
              "(150, 4)"
            ]
          },
          "metadata": {},
          "execution_count": 8
        }
      ]
    },
    {
      "cell_type": "code",
      "source": [
        "X.var()"
      ],
      "metadata": {
        "colab": {
          "base_uri": "https://localhost:8080/"
        },
        "id": "etcxr7L46ZhQ",
        "outputId": "4699a5cc-ddd6-445e-9eaa-f6d54f07a12c"
      },
      "execution_count": 9,
      "outputs": [
        {
          "output_type": "execute_result",
          "data": {
            "text/plain": [
              "sepal length (cm)    0.685694\n",
              "sepal width (cm)     0.189979\n",
              "petal length (cm)    3.116278\n",
              "petal width (cm)     0.581006\n",
              "dtype: float64"
            ]
          },
          "metadata": {},
          "execution_count": 9
        }
      ]
    },
    {
      "cell_type": "code",
      "source": [
        "vt = VarianceThreshold(threshold=0.5)"
      ],
      "metadata": {
        "id": "BAKcfw8B6iCu"
      },
      "execution_count": 12,
      "outputs": []
    },
    {
      "cell_type": "code",
      "source": [
        "x_high_var = vt.fit_transform(X)"
      ],
      "metadata": {
        "id": "NSw_4ZZb6xSc"
      },
      "execution_count": 13,
      "outputs": []
    },
    {
      "cell_type": "code",
      "source": [
        "x_high_var"
      ],
      "metadata": {
        "colab": {
          "base_uri": "https://localhost:8080/"
        },
        "id": "sx6YecdD7KIj",
        "outputId": "f9deed4d-c669-4a2d-a1b4-44be8fd74030"
      },
      "execution_count": 14,
      "outputs": [
        {
          "output_type": "execute_result",
          "data": {
            "text/plain": [
              "array([[5.1, 1.4, 0.2],\n",
              "       [4.9, 1.4, 0.2],\n",
              "       [4.7, 1.3, 0.2],\n",
              "       [4.6, 1.5, 0.2],\n",
              "       [5. , 1.4, 0.2],\n",
              "       [5.4, 1.7, 0.4],\n",
              "       [4.6, 1.4, 0.3],\n",
              "       [5. , 1.5, 0.2],\n",
              "       [4.4, 1.4, 0.2],\n",
              "       [4.9, 1.5, 0.1],\n",
              "       [5.4, 1.5, 0.2],\n",
              "       [4.8, 1.6, 0.2],\n",
              "       [4.8, 1.4, 0.1],\n",
              "       [4.3, 1.1, 0.1],\n",
              "       [5.8, 1.2, 0.2],\n",
              "       [5.7, 1.5, 0.4],\n",
              "       [5.4, 1.3, 0.4],\n",
              "       [5.1, 1.4, 0.3],\n",
              "       [5.7, 1.7, 0.3],\n",
              "       [5.1, 1.5, 0.3],\n",
              "       [5.4, 1.7, 0.2],\n",
              "       [5.1, 1.5, 0.4],\n",
              "       [4.6, 1. , 0.2],\n",
              "       [5.1, 1.7, 0.5],\n",
              "       [4.8, 1.9, 0.2],\n",
              "       [5. , 1.6, 0.2],\n",
              "       [5. , 1.6, 0.4],\n",
              "       [5.2, 1.5, 0.2],\n",
              "       [5.2, 1.4, 0.2],\n",
              "       [4.7, 1.6, 0.2],\n",
              "       [4.8, 1.6, 0.2],\n",
              "       [5.4, 1.5, 0.4],\n",
              "       [5.2, 1.5, 0.1],\n",
              "       [5.5, 1.4, 0.2],\n",
              "       [4.9, 1.5, 0.2],\n",
              "       [5. , 1.2, 0.2],\n",
              "       [5.5, 1.3, 0.2],\n",
              "       [4.9, 1.4, 0.1],\n",
              "       [4.4, 1.3, 0.2],\n",
              "       [5.1, 1.5, 0.2],\n",
              "       [5. , 1.3, 0.3],\n",
              "       [4.5, 1.3, 0.3],\n",
              "       [4.4, 1.3, 0.2],\n",
              "       [5. , 1.6, 0.6],\n",
              "       [5.1, 1.9, 0.4],\n",
              "       [4.8, 1.4, 0.3],\n",
              "       [5.1, 1.6, 0.2],\n",
              "       [4.6, 1.4, 0.2],\n",
              "       [5.3, 1.5, 0.2],\n",
              "       [5. , 1.4, 0.2],\n",
              "       [7. , 4.7, 1.4],\n",
              "       [6.4, 4.5, 1.5],\n",
              "       [6.9, 4.9, 1.5],\n",
              "       [5.5, 4. , 1.3],\n",
              "       [6.5, 4.6, 1.5],\n",
              "       [5.7, 4.5, 1.3],\n",
              "       [6.3, 4.7, 1.6],\n",
              "       [4.9, 3.3, 1. ],\n",
              "       [6.6, 4.6, 1.3],\n",
              "       [5.2, 3.9, 1.4],\n",
              "       [5. , 3.5, 1. ],\n",
              "       [5.9, 4.2, 1.5],\n",
              "       [6. , 4. , 1. ],\n",
              "       [6.1, 4.7, 1.4],\n",
              "       [5.6, 3.6, 1.3],\n",
              "       [6.7, 4.4, 1.4],\n",
              "       [5.6, 4.5, 1.5],\n",
              "       [5.8, 4.1, 1. ],\n",
              "       [6.2, 4.5, 1.5],\n",
              "       [5.6, 3.9, 1.1],\n",
              "       [5.9, 4.8, 1.8],\n",
              "       [6.1, 4. , 1.3],\n",
              "       [6.3, 4.9, 1.5],\n",
              "       [6.1, 4.7, 1.2],\n",
              "       [6.4, 4.3, 1.3],\n",
              "       [6.6, 4.4, 1.4],\n",
              "       [6.8, 4.8, 1.4],\n",
              "       [6.7, 5. , 1.7],\n",
              "       [6. , 4.5, 1.5],\n",
              "       [5.7, 3.5, 1. ],\n",
              "       [5.5, 3.8, 1.1],\n",
              "       [5.5, 3.7, 1. ],\n",
              "       [5.8, 3.9, 1.2],\n",
              "       [6. , 5.1, 1.6],\n",
              "       [5.4, 4.5, 1.5],\n",
              "       [6. , 4.5, 1.6],\n",
              "       [6.7, 4.7, 1.5],\n",
              "       [6.3, 4.4, 1.3],\n",
              "       [5.6, 4.1, 1.3],\n",
              "       [5.5, 4. , 1.3],\n",
              "       [5.5, 4.4, 1.2],\n",
              "       [6.1, 4.6, 1.4],\n",
              "       [5.8, 4. , 1.2],\n",
              "       [5. , 3.3, 1. ],\n",
              "       [5.6, 4.2, 1.3],\n",
              "       [5.7, 4.2, 1.2],\n",
              "       [5.7, 4.2, 1.3],\n",
              "       [6.2, 4.3, 1.3],\n",
              "       [5.1, 3. , 1.1],\n",
              "       [5.7, 4.1, 1.3],\n",
              "       [6.3, 6. , 2.5],\n",
              "       [5.8, 5.1, 1.9],\n",
              "       [7.1, 5.9, 2.1],\n",
              "       [6.3, 5.6, 1.8],\n",
              "       [6.5, 5.8, 2.2],\n",
              "       [7.6, 6.6, 2.1],\n",
              "       [4.9, 4.5, 1.7],\n",
              "       [7.3, 6.3, 1.8],\n",
              "       [6.7, 5.8, 1.8],\n",
              "       [7.2, 6.1, 2.5],\n",
              "       [6.5, 5.1, 2. ],\n",
              "       [6.4, 5.3, 1.9],\n",
              "       [6.8, 5.5, 2.1],\n",
              "       [5.7, 5. , 2. ],\n",
              "       [5.8, 5.1, 2.4],\n",
              "       [6.4, 5.3, 2.3],\n",
              "       [6.5, 5.5, 1.8],\n",
              "       [7.7, 6.7, 2.2],\n",
              "       [7.7, 6.9, 2.3],\n",
              "       [6. , 5. , 1.5],\n",
              "       [6.9, 5.7, 2.3],\n",
              "       [5.6, 4.9, 2. ],\n",
              "       [7.7, 6.7, 2. ],\n",
              "       [6.3, 4.9, 1.8],\n",
              "       [6.7, 5.7, 2.1],\n",
              "       [7.2, 6. , 1.8],\n",
              "       [6.2, 4.8, 1.8],\n",
              "       [6.1, 4.9, 1.8],\n",
              "       [6.4, 5.6, 2.1],\n",
              "       [7.2, 5.8, 1.6],\n",
              "       [7.4, 6.1, 1.9],\n",
              "       [7.9, 6.4, 2. ],\n",
              "       [6.4, 5.6, 2.2],\n",
              "       [6.3, 5.1, 1.5],\n",
              "       [6.1, 5.6, 1.4],\n",
              "       [7.7, 6.1, 2.3],\n",
              "       [6.3, 5.6, 2.4],\n",
              "       [6.4, 5.5, 1.8],\n",
              "       [6. , 4.8, 1.8],\n",
              "       [6.9, 5.4, 2.1],\n",
              "       [6.7, 5.6, 2.4],\n",
              "       [6.9, 5.1, 2.3],\n",
              "       [5.8, 5.1, 1.9],\n",
              "       [6.8, 5.9, 2.3],\n",
              "       [6.7, 5.7, 2.5],\n",
              "       [6.7, 5.2, 2.3],\n",
              "       [6.3, 5. , 1.9],\n",
              "       [6.5, 5.2, 2. ],\n",
              "       [6.2, 5.4, 2.3],\n",
              "       [5.9, 5.1, 1.8]])"
            ]
          },
          "metadata": {},
          "execution_count": 14
        }
      ]
    },
    {
      "cell_type": "code",
      "source": [
        "type(x_high_var)"
      ],
      "metadata": {
        "colab": {
          "base_uri": "https://localhost:8080/"
        },
        "id": "Dxw25vdr7Zbr",
        "outputId": "318f2f4b-90cd-45d5-bddb-61feb35ea9e1"
      },
      "execution_count": 15,
      "outputs": [
        {
          "output_type": "execute_result",
          "data": {
            "text/plain": [
              "numpy.ndarray"
            ]
          },
          "metadata": {},
          "execution_count": 15
        }
      ]
    },
    {
      "cell_type": "code",
      "source": [
        "vt.get_support() #to know which columns are all got deleted by variance threshold"
      ],
      "metadata": {
        "colab": {
          "base_uri": "https://localhost:8080/"
        },
        "id": "vpPf44tH7cm3",
        "outputId": "b71a7925-a564-410f-8794-92f43a07dba2"
      },
      "execution_count": 16,
      "outputs": [
        {
          "output_type": "execute_result",
          "data": {
            "text/plain": [
              "array([ True, False,  True,  True])"
            ]
          },
          "metadata": {},
          "execution_count": 16
        }
      ]
    },
    {
      "cell_type": "code",
      "source": [
        "X.columns"
      ],
      "metadata": {
        "colab": {
          "base_uri": "https://localhost:8080/"
        },
        "id": "2FiWPm048w73",
        "outputId": "bc041236-fbd9-4f3c-f8d0-1337f07b180d"
      },
      "execution_count": 17,
      "outputs": [
        {
          "output_type": "execute_result",
          "data": {
            "text/plain": [
              "Index(['sepal length (cm)', 'sepal width (cm)', 'petal length (cm)',\n",
              "       'petal width (cm)'],\n",
              "      dtype='object')"
            ]
          },
          "metadata": {},
          "execution_count": 17
        }
      ]
    },
    {
      "cell_type": "code",
      "source": [
        "#to convert numpy array to df\n",
        "x_high_var = pd.DataFrame(x_high_var,columns=['sepal length (cm)', 'petal length (cm)','petal width (cm)'])"
      ],
      "metadata": {
        "id": "f8Wurceg8U0Z"
      },
      "execution_count": 19,
      "outputs": []
    },
    {
      "cell_type": "code",
      "source": [
        "x_high_var"
      ],
      "metadata": {
        "colab": {
          "base_uri": "https://localhost:8080/",
          "height": 423
        },
        "id": "GWMXlRR79M1D",
        "outputId": "3fe4b360-b13d-49e8-a7db-ec2c1caf8237"
      },
      "execution_count": 20,
      "outputs": [
        {
          "output_type": "execute_result",
          "data": {
            "text/plain": [
              "     sepal length (cm)  petal length (cm)  petal width (cm)\n",
              "0                  5.1                1.4               0.2\n",
              "1                  4.9                1.4               0.2\n",
              "2                  4.7                1.3               0.2\n",
              "3                  4.6                1.5               0.2\n",
              "4                  5.0                1.4               0.2\n",
              "..                 ...                ...               ...\n",
              "145                6.7                5.2               2.3\n",
              "146                6.3                5.0               1.9\n",
              "147                6.5                5.2               2.0\n",
              "148                6.2                5.4               2.3\n",
              "149                5.9                5.1               1.8\n",
              "\n",
              "[150 rows x 3 columns]"
            ],
            "text/html": [
              "\n",
              "  <div id=\"df-a555dff4-27c4-428d-8ab2-4cfbc666d416\">\n",
              "    <div class=\"colab-df-container\">\n",
              "      <div>\n",
              "<style scoped>\n",
              "    .dataframe tbody tr th:only-of-type {\n",
              "        vertical-align: middle;\n",
              "    }\n",
              "\n",
              "    .dataframe tbody tr th {\n",
              "        vertical-align: top;\n",
              "    }\n",
              "\n",
              "    .dataframe thead th {\n",
              "        text-align: right;\n",
              "    }\n",
              "</style>\n",
              "<table border=\"1\" class=\"dataframe\">\n",
              "  <thead>\n",
              "    <tr style=\"text-align: right;\">\n",
              "      <th></th>\n",
              "      <th>sepal length (cm)</th>\n",
              "      <th>petal length (cm)</th>\n",
              "      <th>petal width (cm)</th>\n",
              "    </tr>\n",
              "  </thead>\n",
              "  <tbody>\n",
              "    <tr>\n",
              "      <th>0</th>\n",
              "      <td>5.1</td>\n",
              "      <td>1.4</td>\n",
              "      <td>0.2</td>\n",
              "    </tr>\n",
              "    <tr>\n",
              "      <th>1</th>\n",
              "      <td>4.9</td>\n",
              "      <td>1.4</td>\n",
              "      <td>0.2</td>\n",
              "    </tr>\n",
              "    <tr>\n",
              "      <th>2</th>\n",
              "      <td>4.7</td>\n",
              "      <td>1.3</td>\n",
              "      <td>0.2</td>\n",
              "    </tr>\n",
              "    <tr>\n",
              "      <th>3</th>\n",
              "      <td>4.6</td>\n",
              "      <td>1.5</td>\n",
              "      <td>0.2</td>\n",
              "    </tr>\n",
              "    <tr>\n",
              "      <th>4</th>\n",
              "      <td>5.0</td>\n",
              "      <td>1.4</td>\n",
              "      <td>0.2</td>\n",
              "    </tr>\n",
              "    <tr>\n",
              "      <th>...</th>\n",
              "      <td>...</td>\n",
              "      <td>...</td>\n",
              "      <td>...</td>\n",
              "    </tr>\n",
              "    <tr>\n",
              "      <th>145</th>\n",
              "      <td>6.7</td>\n",
              "      <td>5.2</td>\n",
              "      <td>2.3</td>\n",
              "    </tr>\n",
              "    <tr>\n",
              "      <th>146</th>\n",
              "      <td>6.3</td>\n",
              "      <td>5.0</td>\n",
              "      <td>1.9</td>\n",
              "    </tr>\n",
              "    <tr>\n",
              "      <th>147</th>\n",
              "      <td>6.5</td>\n",
              "      <td>5.2</td>\n",
              "      <td>2.0</td>\n",
              "    </tr>\n",
              "    <tr>\n",
              "      <th>148</th>\n",
              "      <td>6.2</td>\n",
              "      <td>5.4</td>\n",
              "      <td>2.3</td>\n",
              "    </tr>\n",
              "    <tr>\n",
              "      <th>149</th>\n",
              "      <td>5.9</td>\n",
              "      <td>5.1</td>\n",
              "      <td>1.8</td>\n",
              "    </tr>\n",
              "  </tbody>\n",
              "</table>\n",
              "<p>150 rows × 3 columns</p>\n",
              "</div>\n",
              "      <button class=\"colab-df-convert\" onclick=\"convertToInteractive('df-a555dff4-27c4-428d-8ab2-4cfbc666d416')\"\n",
              "              title=\"Convert this dataframe to an interactive table.\"\n",
              "              style=\"display:none;\">\n",
              "        \n",
              "  <svg xmlns=\"http://www.w3.org/2000/svg\" height=\"24px\"viewBox=\"0 0 24 24\"\n",
              "       width=\"24px\">\n",
              "    <path d=\"M0 0h24v24H0V0z\" fill=\"none\"/>\n",
              "    <path d=\"M18.56 5.44l.94 2.06.94-2.06 2.06-.94-2.06-.94-.94-2.06-.94 2.06-2.06.94zm-11 1L8.5 8.5l.94-2.06 2.06-.94-2.06-.94L8.5 2.5l-.94 2.06-2.06.94zm10 10l.94 2.06.94-2.06 2.06-.94-2.06-.94-.94-2.06-.94 2.06-2.06.94z\"/><path d=\"M17.41 7.96l-1.37-1.37c-.4-.4-.92-.59-1.43-.59-.52 0-1.04.2-1.43.59L10.3 9.45l-7.72 7.72c-.78.78-.78 2.05 0 2.83L4 21.41c.39.39.9.59 1.41.59.51 0 1.02-.2 1.41-.59l7.78-7.78 2.81-2.81c.8-.78.8-2.07 0-2.86zM5.41 20L4 18.59l7.72-7.72 1.47 1.35L5.41 20z\"/>\n",
              "  </svg>\n",
              "      </button>\n",
              "      \n",
              "  <style>\n",
              "    .colab-df-container {\n",
              "      display:flex;\n",
              "      flex-wrap:wrap;\n",
              "      gap: 12px;\n",
              "    }\n",
              "\n",
              "    .colab-df-convert {\n",
              "      background-color: #E8F0FE;\n",
              "      border: none;\n",
              "      border-radius: 50%;\n",
              "      cursor: pointer;\n",
              "      display: none;\n",
              "      fill: #1967D2;\n",
              "      height: 32px;\n",
              "      padding: 0 0 0 0;\n",
              "      width: 32px;\n",
              "    }\n",
              "\n",
              "    .colab-df-convert:hover {\n",
              "      background-color: #E2EBFA;\n",
              "      box-shadow: 0px 1px 2px rgba(60, 64, 67, 0.3), 0px 1px 3px 1px rgba(60, 64, 67, 0.15);\n",
              "      fill: #174EA6;\n",
              "    }\n",
              "\n",
              "    [theme=dark] .colab-df-convert {\n",
              "      background-color: #3B4455;\n",
              "      fill: #D2E3FC;\n",
              "    }\n",
              "\n",
              "    [theme=dark] .colab-df-convert:hover {\n",
              "      background-color: #434B5C;\n",
              "      box-shadow: 0px 1px 3px 1px rgba(0, 0, 0, 0.15);\n",
              "      filter: drop-shadow(0px 1px 2px rgba(0, 0, 0, 0.3));\n",
              "      fill: #FFFFFF;\n",
              "    }\n",
              "  </style>\n",
              "\n",
              "      <script>\n",
              "        const buttonEl =\n",
              "          document.querySelector('#df-a555dff4-27c4-428d-8ab2-4cfbc666d416 button.colab-df-convert');\n",
              "        buttonEl.style.display =\n",
              "          google.colab.kernel.accessAllowed ? 'block' : 'none';\n",
              "\n",
              "        async function convertToInteractive(key) {\n",
              "          const element = document.querySelector('#df-a555dff4-27c4-428d-8ab2-4cfbc666d416');\n",
              "          const dataTable =\n",
              "            await google.colab.kernel.invokeFunction('convertToInteractive',\n",
              "                                                     [key], {});\n",
              "          if (!dataTable) return;\n",
              "\n",
              "          const docLinkHtml = 'Like what you see? Visit the ' +\n",
              "            '<a target=\"_blank\" href=https://colab.research.google.com/notebooks/data_table.ipynb>data table notebook</a>'\n",
              "            + ' to learn more about interactive tables.';\n",
              "          element.innerHTML = '';\n",
              "          dataTable['output_type'] = 'display_data';\n",
              "          await google.colab.output.renderOutput(dataTable, element);\n",
              "          const docLink = document.createElement('div');\n",
              "          docLink.innerHTML = docLinkHtml;\n",
              "          element.appendChild(docLink);\n",
              "        }\n",
              "      </script>\n",
              "    </div>\n",
              "  </div>\n",
              "  "
            ]
          },
          "metadata": {},
          "execution_count": 20
        }
      ]
    },
    {
      "cell_type": "markdown",
      "source": [
        "Recursive Feature Elimination (RFE)"
      ],
      "metadata": {
        "id": "RigEmQjC9b04"
      }
    },
    {
      "cell_type": "code",
      "source": [],
      "metadata": {
        "id": "hu0aXSbBAb9j"
      },
      "execution_count": null,
      "outputs": []
    }
  ]
}