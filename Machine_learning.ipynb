{
  "nbformat": 4,
  "nbformat_minor": 0,
  "metadata": {
    "colab": {
      "provenance": [],
      "authorship_tag": "ABX9TyPm2jFeDGZ/hjZc9vIOOA0M",
      "include_colab_link": true
    },
    "kernelspec": {
      "name": "python3",
      "display_name": "Python 3"
    },
    "language_info": {
      "name": "python"
    }
  },
  "cells": [
    {
      "cell_type": "markdown",
      "metadata": {
        "id": "view-in-github",
        "colab_type": "text"
      },
      "source": [
        "<a href=\"https://colab.research.google.com/github/ShreeKeshavan/Machine_Learning/blob/main/Machine_learning.ipynb\" target=\"_parent\"><img src=\"https://colab.research.google.com/assets/colab-badge.svg\" alt=\"Open In Colab\"/></a>"
      ]
    },
    {
      "cell_type": "markdown",
      "source": [
        "# **Linear Regression**"
      ],
      "metadata": {
        "id": "pBQg6Rgg-F03"
      }
    },
    {
      "cell_type": "markdown",
      "source": [
        "### **Basics Of Linear Regression**"
      ],
      "metadata": {
        "id": "1V14jCZ0P5BL"
      }
    },
    {
      "cell_type": "code",
      "execution_count": null,
      "metadata": {
        "id": "FfuvFkCT4X-C",
        "colab": {
          "base_uri": "https://localhost:8080/",
          "height": 283
        },
        "outputId": "903221c6-746f-4c0c-e1dd-9a733a66ccc1"
      },
      "outputs": [
        {
          "output_type": "stream",
          "name": "stdout",
          "text": [
            "8.013459823238465 10.76915592313307\n"
          ]
        },
        {
          "output_type": "display_data",
          "data": {
            "text/plain": [
              "<Figure size 432x288 with 1 Axes>"
            ],
            "image/png": "[encoded data removed]"
          },
          "metadata": {
            "needs_background": "light"
          }
        }
      ],
      "source": [
        "import matplotlib.pyplot as plt\n",
        "from scipy import stats\n",
        "\n",
        "x = [2,3,4,4.4,5,5.2,4.2,6.0,8,5,6,2,3,4]\n",
        "y = [30,42,45,56,42,45,48,60,80,56,65,45,12,20] #Data set\n",
        "\n",
        "slope, intercept,r,p,std_err = stats.linregress(x,y) #To calculate the slope,intercept of the best line , R, P, standard error using scipy.\n",
        "print(slope,intercept)\n",
        "\n",
        "plt.scatter(x,y) #To plot the scatter of x,y \n",
        "plt.show()\n",
        "\n",
        "\n",
        "\n"
      ]
    },
    {
      "cell_type": "code",
      "source": [
        "def myfunc(x,slope,intercept): #To find (y = mx+c) x is m, slope is x, intercept is c.\n",
        "  return x*slope+intercept #To find y \n",
        "\n",
        "slope, intercept,r,p,std_err = stats.linregress(x,y) #To calculate the slope,intercept of the best line , R, P, standard error using scipy.\n",
        "\n",
        "new_y = []\n",
        "for x_value in x:\n",
        "  temp_y = myfunc(x_value,slope,intercept)\n",
        "  new_y.append(temp_y)\n",
        "print(new_y) #To find the new y (predicted y)\n",
        "\n",
        "plt.scatter(x,y)\n",
        "plt.plot(x,new_y) #Plot the new_y (minimum error line)\n",
        "plt.show() \n"
      ],
      "metadata": {
        "colab": {
          "base_uri": "https://localhost:8080/",
          "height": 303
        },
        "id": "3OOQjl1PflB5",
        "outputId": "aa0cb9ad-7133-4d03-b0a9-c60f08154275"
      },
      "execution_count": null,
      "outputs": [
        {
          "output_type": "stream",
          "name": "stdout",
          "text": [
            "[26.79607556961, 34.80953539284847, 42.82299521608693, 46.02837914538232, 50.836455039325394, 52.43914700397309, 44.42568718073463, 58.849914862563864, 74.87683450904079, 50.836455039325394, 58.849914862563864, 26.79607556961, 34.80953539284847, 42.82299521608693]\n"
          ]
        },
        {
          "output_type": "display_data",
          "data": {
            "text/plain": [
              "<Figure size 432x288 with 1 Axes>"
            ],
            "image/png": "[encoded data removed]"
          },
          "metadata": {
            "needs_background": "light"
          }
        }
      ]
    },
    {
      "cell_type": "markdown",
      "source": [
        "# **SCORE DATA SET**"
      ],
      "metadata": {
        "id": "c44jc1UKPry4"
      }
    },
    {
      "cell_type": "code",
      "source": [
        "#SCORE_DATASET (simple_linear_Regression)\n",
        "import matplotlib.pyplot as plt\n",
        "import pandas as pd\n",
        "from scipy import stats\n",
        "\n",
        "df = pd.read_csv(\"/content/score.csv\")\n",
        "print(df) \n",
        "\n",
        "X = df['Hours'].values\n",
        "y = df['Scores'].values\n",
        "slope,intercept,r,p,Std_err = stats.linregress(X,y)#To find (y = mx+c) x is m, slope is x, intercept is c, r is distance of plot from line,\n",
        "\n",
        "def myfunc(x):\n",
        "  return slope*x +intercept #(y = mx+c)\n",
        "\n",
        "predicted_y = []\n",
        "for x_value in X:\n",
        "  predicted_y.append(myfunc(x_value)) # Precting the minimum error line\n",
        "\n",
        "plt.scatter(X,y)\n",
        "plt.plot(X,predicted_y) #Plotting the minmum error line\n",
        "plt.show()\n"
      ],
      "metadata": {
        "colab": {
          "base_uri": "https://localhost:8080/",
          "height": 740
        },
        "id": "7oAalrxFsLPZ",
        "outputId": "a980ad9d-5219-44e7-f1df-6241f40bf919"
      },
      "execution_count": null,
      "outputs": [
        {
          "output_type": "stream",
          "name": "stdout",
          "text": [
            "    Hours  Scores\n",
            "0     2.5      21\n",
            "1     5.1      47\n",
            "2     3.2      27\n",
            "3     8.5      75\n",
            "4     3.5      30\n",
            "5     1.5      20\n",
            "6     9.2      88\n",
            "7     5.5      60\n",
            "8     8.3      81\n",
            "9     2.7      25\n",
            "10    7.7      85\n",
            "11    5.9      62\n",
            "12    4.5      41\n",
            "13    3.3      42\n",
            "14    1.1      17\n",
            "15    8.9      95\n",
            "16    2.5      30\n",
            "17    1.9      24\n",
            "18    6.1      67\n",
            "19    7.4      69\n",
            "20    2.7      30\n",
            "21    4.8      54\n",
            "22    3.8      35\n",
            "23    6.9      76\n",
            "24    7.8      86\n"
          ]
        },
        {
          "output_type": "display_data",
          "data": {
            "text/plain": [
              "<Figure size 432x288 with 1 Axes>"
            ],
            "image/png": "[encoded data removed]"
          },
          "metadata": {
            "needs_background": "light"
          }
        }
      ]
    },
    {
      "cell_type": "markdown",
      "source": [
        "### **Finding Rscore,Intercept**"
      ],
      "metadata": {
        "id": "3JqX5we3QGrX"
      }
    },
    {
      "cell_type": "code",
      "source": [
        "from sklearn.linear_model import LinearRegression\n",
        "import numpy as np\n",
        "\n",
        "x = np.array([2,3,4,5,1,5,6,7,8,9,10]).reshape(-1,1) #the data should need to be in array while fit\n",
        "y = np.array([23,45,23,45,26,67,87,45,67,23,45])\n",
        "\n",
        "lr = LinearRegression()\n",
        "lr.fit(x,y)\n",
        "print(\"score for regression : \",lr.score(x,y))#To find the R score\n",
        "print(\"LR intercept : \",lr.intercept_) #to find the intercept\n"
      ],
      "metadata": {
        "colab": {
          "base_uri": "https://localhost:8080/"
        },
        "id": "B_LT_2u3IRi4",
        "outputId": "8bfa6f27-f9e5-443e-a78f-6b7a1262050f"
      },
      "execution_count": null,
      "outputs": [
        {
          "output_type": "stream",
          "name": "stdout",
          "text": [
            "score for regression :  0.08960110378080532\n",
            "LR intercept :  32.98901098901099\n"
          ]
        }
      ]
    },
    {
      "cell_type": "markdown",
      "source": [
        "# **Tv_Marketing Data set**"
      ],
      "metadata": {
        "id": "vvFdMBeOQYDG"
      }
    },
    {
      "cell_type": "code",
      "source": [
        "from sklearn.linear_model import LinearRegression\n",
        "from sklearn.model_selection import train_test_split\n",
        "import numpy as np\n",
        "import pandas as pd\n",
        "import seaborn as sns"
      ],
      "metadata": {
        "id": "LYkYJlBCOvkP"
      },
      "execution_count": null,
      "outputs": []
    },
    {
      "cell_type": "code",
      "source": [
        "df = pd.read_csv(\"/content/tvmarketing.csv\")"
      ],
      "metadata": {
        "id": "ayEw7XnOZ-wY"
      },
      "execution_count": null,
      "outputs": []
    },
    {
      "cell_type": "code",
      "source": [
        "print(df.info()) #Information about data"
      ],
      "metadata": {
        "colab": {
          "base_uri": "https://localhost:8080/"
        },
        "id": "Ngogaml6aIPn",
        "outputId": "efaa9c4e-aff1-4cf7-f455-cbda88378be0"
      },
      "execution_count": null,
      "outputs": [
        {
          "output_type": "stream",
          "name": "stdout",
          "text": [
            "<class 'pandas.core.frame.DataFrame'>\n",
            "RangeIndex: 200 entries, 0 to 199\n",
            "Data columns (total 2 columns):\n",
            " #   Column  Non-Null Count  Dtype  \n",
            "---  ------  --------------  -----  \n",
            " 0   TV      200 non-null    float64\n",
            " 1   Sales   200 non-null    float64\n",
            "dtypes: float64(2)\n",
            "memory usage: 3.2 KB\n",
            "None\n"
          ]
        }
      ]
    },
    {
      "cell_type": "code",
      "source": [
        "print(df.describe()) #Description of the data"
      ],
      "metadata": {
        "colab": {
          "base_uri": "https://localhost:8080/"
        },
        "id": "BXreDNL_aPb-",
        "outputId": "82af58c6-a02c-4e3d-ba07-e671bdb8e470"
      },
      "execution_count": null,
      "outputs": [
        {
          "output_type": "stream",
          "name": "stdout",
          "text": [
            "               TV       Sales\n",
            "count  200.000000  200.000000\n",
            "mean   147.042500   14.022500\n",
            "std     85.854236    5.217457\n",
            "min      0.700000    1.600000\n",
            "25%     74.375000   10.375000\n",
            "50%    149.750000   12.900000\n",
            "75%    218.825000   17.400000\n",
            "max    296.400000   27.000000\n"
          ]
        }
      ]
    },
    {
      "cell_type": "code",
      "source": [
        "sns.scatterplot(data=df, x=\"TV\", y=\"Sales\")"
      ],
      "metadata": {
        "colab": {
          "base_uri": "https://localhost:8080/",
          "height": 297
        },
        "id": "7FWe3TZ9aTJk",
        "outputId": "21a973b2-2518-48dc-c4e5-d8a4dffe2e3a"
      },
      "execution_count": null,
      "outputs": [
        {
          "output_type": "execute_result",
          "data": {
            "text/plain": [
              "<AxesSubplot:xlabel='TV', ylabel='Sales'>"
            ]
          },
          "metadata": {},
          "execution_count": 19
        },
        {
          "output_type": "display_data",
          "data": {
            "text/plain": [
              "<Figure size 432x288 with 1 Axes>"
            ],
            "image/png": "[encoded data removed]"
          },
          "metadata": {
            "needs_background": "light"
          }
        }
      ]
    },
    {
      "cell_type": "code",
      "source": [
        "#Line formula - y = m1x1+m0 \n",
        "# Equation for this dataset - Sales = m1*TV+m0\n",
        "X = df[[\"TV\"]] \n",
        "Y = df[\"Sales\"]\n",
        "\n",
        "#Splitting \n",
        "X_train,X_test,Y_train,Y_test = train_test_split(X,Y,test_size=0.3,random_state=0) #can give anyone test_size or train_size. \n",
        "\n",
        "lr = LinearRegression() #creating object.\n",
        "lr.fit(X_train,Y_train) #Always use train data in fit.\n",
        "\n",
        "print(\"score for regression : \",lr.score(X_train,Y_train))#To find the R score.\n",
        "print(\"LR intercept : \",lr.intercept_) #to find the intercept.\n",
        "print(\"Coeff : \", lr.coef_ ) #slope"
      ],
      "metadata": {
        "colab": {
          "base_uri": "https://localhost:8080/"
        },
        "id": "AwLVADMMavzq",
        "outputId": "ab5966b7-4dbf-4b19-b2bf-af03cb80db14"
      },
      "execution_count": null,
      "outputs": [
        {
          "output_type": "stream",
          "name": "stdout",
          "text": [
            "score for regression :  0.5552336104251212\n",
            "LR intercept :  7.310810165411681\n",
            "Coeff :  [0.04581434]\n"
          ]
        }
      ]
    },
    {
      "cell_type": "code",
      "source": [
        "#Prediction\n",
        "Y_predicted = lr.predict(X_train) \n",
        "sns.lmplot(x ='TV', y = 'Sales', data=df,aspect=1.5,height=6) #To visualise prediction using lmplot."
      ],
      "metadata": {
        "colab": {
          "base_uri": "https://localhost:8080/",
          "height": 459
        },
        "id": "RCA3GnsHgXSz",
        "outputId": "8d4bec87-acb2-400b-baa6-795094829883"
      },
      "execution_count": null,
      "outputs": [
        {
          "output_type": "execute_result",
          "data": {
            "text/plain": [
              "<seaborn.axisgrid.FacetGrid at 0x7f64f443f9d0>"
            ]
          },
          "metadata": {},
          "execution_count": 21
        },
        {
          "output_type": "display_data",
          "data": {
            "text/plain": [
              "<Figure size 648x432 with 1 Axes>"
            ],
            "image/png": "[encoded data removed]"
          },
          "metadata": {
            "needs_background": "light"
          }
        }
      ]
    },
    {
      "cell_type": "code",
      "source": [
        "#Computating the Train ERROR\n",
        "print(sum(abs(Y_train - Y_predicted))/len(Y_train)) # formula of mean of the error - sum(predicted - actual)2/n"
      ],
      "metadata": {
        "colab": {
          "base_uri": "https://localhost:8080/"
        },
        "id": "tuAf10D4itf3",
        "outputId": "ca030fa1-6620-46ec-9606-16aae46e09e3"
      },
      "execution_count": null,
      "outputs": [
        {
          "output_type": "stream",
          "name": "stdout",
          "text": [
            "2.782980807882148\n"
          ]
        }
      ]
    },
    {
      "cell_type": "code",
      "source": [
        "# Predicting test data\n",
        "y_test_predicted = lr.predict(X_test)"
      ],
      "metadata": {
        "id": "guR2eYOqlQPc"
      },
      "execution_count": null,
      "outputs": []
    },
    {
      "cell_type": "code",
      "source": [
        "#Computating the Test ERROR\n",
        "print(sum(abs(Y_test - y_test_predicted))/len(Y_test)) # formula of mean of the error - sum(predicted - actual)2/n"
      ],
      "metadata": {
        "colab": {
          "base_uri": "https://localhost:8080/"
        },
        "id": "Z_vJZss3lADp",
        "outputId": "f8610ee4-9004-49b6-89bd-1efe043ad578"
      },
      "execution_count": null,
      "outputs": [
        {
          "output_type": "stream",
          "name": "stdout",
          "text": [
            "2.0575465794300083\n"
          ]
        }
      ]
    },
    {
      "cell_type": "markdown",
      "source": [
        "# **Tips Dataset**"
      ],
      "metadata": {
        "id": "SraMjpZ9-d9A"
      }
    },
    {
      "cell_type": "code",
      "source": [
        "\n",
        "import matplotlib.pyplot as plt\n",
        "import pandas as pd\n",
        "import seaborn as sns\n",
        "from sklearn.linear_model import LinearRegression,Lasso,Ridge\n",
        "from sklearn.model_selection import train_test_split\n",
        "from sklearn.metrics import mean_squared_error\n",
        "\n",
        "df = sns.load_dataset('tips')\n",
        "print(df)\n"
      ],
      "metadata": {
        "id": "VR0hF3oFR2zz",
        "colab": {
          "base_uri": "https://localhost:8080/"
        },
        "outputId": "859d7549-9b9a-4f52-a1a0-192a5e6b15e5"
      },
      "execution_count": null,
      "outputs": [
        {
          "output_type": "stream",
          "name": "stdout",
          "text": [
            "     total_bill   tip     sex smoker   day    time  size\n",
            "0         16.99  1.01  Female     No   Sun  Dinner     2\n",
            "1         10.34  1.66    Male     No   Sun  Dinner     3\n",
            "2         21.01  3.50    Male     No   Sun  Dinner     3\n",
            "3         23.68  3.31    Male     No   Sun  Dinner     2\n",
            "4         24.59  3.61  Female     No   Sun  Dinner     4\n",
            "..          ...   ...     ...    ...   ...     ...   ...\n",
            "239       29.03  5.92    Male     No   Sat  Dinner     3\n",
            "240       27.18  2.00  Female    Yes   Sat  Dinner     2\n",
            "241       22.67  2.00    Male    Yes   Sat  Dinner     2\n",
            "242       17.82  1.75    Male     No   Sat  Dinner     2\n",
            "243       18.78  3.00  Female     No  Thur  Dinner     2\n",
            "\n",
            "[244 rows x 7 columns]\n"
          ]
        }
      ]
    },
    {
      "cell_type": "markdown",
      "source": [
        "## **Encoding**"
      ],
      "metadata": {
        "id": "BDEohh_yD8DG"
      }
    },
    {
      "cell_type": "code",
      "source": [
        "#Label Encoding\n",
        "from sklearn.preprocessing import LabelEncoder\n",
        "le = LabelEncoder() #converting categorical to numeric values\n",
        "#Gender column\n",
        "le.fit(df['sex']) #fitting the feature to transform to numerical to chnage gender colum to numeric\n",
        "le.transform(df['sex']) #transforming gender column to numerical\n",
        "df['sex'] = le.transform(df['sex']) # making the changes permanent in df\n",
        "#smoker column\n",
        "le.fit(df['smoker'])\n",
        "df['smoker'] = le.transform(df['smoker'])\n",
        "#day column\n",
        "le.fit(df['day'])\n",
        "df['day'] = le.transform(df['day'])\n",
        "#time column\n",
        "le.fit(df['time'])\n",
        "df['time'] = le.transform(df['time'])\n",
        "\n",
        "print(df)"
      ],
      "metadata": {
        "id": "9xx6i7AfT0SP",
        "colab": {
          "base_uri": "https://localhost:8080/"
        },
        "outputId": "00e85e15-8b3c-48cb-b565-c9c86e090616"
      },
      "execution_count": null,
      "outputs": [
        {
          "output_type": "stream",
          "name": "stdout",
          "text": [
            "     total_bill   tip  sex  smoker  day  time  size\n",
            "0         16.99  1.01    0       0    2     0     2\n",
            "1         10.34  1.66    1       0    2     0     3\n",
            "2         21.01  3.50    1       0    2     0     3\n",
            "3         23.68  3.31    1       0    2     0     2\n",
            "4         24.59  3.61    0       0    2     0     4\n",
            "..          ...   ...  ...     ...  ...   ...   ...\n",
            "239       29.03  5.92    1       0    1     0     3\n",
            "240       27.18  2.00    0       1    1     0     2\n",
            "241       22.67  2.00    1       1    1     0     2\n",
            "242       17.82  1.75    1       0    1     0     2\n",
            "243       18.78  3.00    0       0    3     0     2\n",
            "\n",
            "[244 rows x 7 columns]\n"
          ]
        }
      ]
    },
    {
      "cell_type": "markdown",
      "source": [
        "## **Splitting data**"
      ],
      "metadata": {
        "id": "7tK-4u2_Kf9T"
      }
    },
    {
      "cell_type": "code",
      "source": [
        "# X is independent values, y is dependent values\n",
        "X = df[['total_bill','sex','smoker','day','time','size']]\n",
        "y = df['tip']\n",
        "train_test_split(X,y,test_size=0.2) #to split the data\n",
        "X_train,X_test,y_train,y_test = train_test_split(X,y,test_size=0.2) #to assign \n",
        "\n",
        "#Predicting\n",
        "lr = LinearRegression() #creating object to library function\n",
        "lr.fit(X_train,y_train) #fitting training data\n",
        "train_prediction = lr.predict(X_train) #only independent feature should be give for prediction\n",
        "test_prediction = lr.predict(X_test)\n",
        "\n",
        "#Mean_squared_error\n",
        "print(\"Mean squared error Train : \",mean_squared_error(y_train,train_prediction))\n",
        "print(\"Mean squared error Test : \",mean_squared_error(y_test,test_prediction))"
      ],
      "metadata": {
        "colab": {
          "base_uri": "https://localhost:8080/"
        },
        "id": "Af8JTVqHKvta",
        "outputId": "65b89919-3185-4a9e-a49f-3f80f5e403e9"
      },
      "execution_count": null,
      "outputs": [
        {
          "output_type": "stream",
          "name": "stdout",
          "text": [
            "Mean squared error Train :  1.0148850701896903\n",
            "Mean squared error Test :  1.070446247322931\n"
          ]
        }
      ]
    },
    {
      "cell_type": "markdown",
      "source": [
        "## **Regularisation**"
      ],
      "metadata": {
        "id": "UkXTFyJbYvDQ"
      }
    },
    {
      "cell_type": "markdown",
      "source": [
        "### **Lasso**"
      ],
      "metadata": {
        "id": "FnJBK4U71G_Q"
      }
    },
    {
      "cell_type": "code",
      "source": [
        "lasso = Lasso(alpha = 10) # Hyper parameter alpha value should not be 0 or less then 0 or too high\n",
        "lasso.fit(X_train,y_train)\n",
        "train_prediction = lasso.predict(X_train)\n",
        "test_prediction = lasso.predict(X_test)\n",
        "print(\"Mean squared error Train : \",mean_squared_error(y_train,train_prediction))\n",
        "print(\"Mean squared error Test : \",mean_squared_error(y_test,test_prediction))"
      ],
      "metadata": {
        "id": "te0DJ9GWYynF",
        "colab": {
          "base_uri": "https://localhost:8080/"
        },
        "outputId": "06d66970-fb92-4b01-fc53-1c43b2d2623f"
      },
      "execution_count": null,
      "outputs": [
        {
          "output_type": "stream",
          "name": "stdout",
          "text": [
            "Mean squared error Train :  2.0982616857330703\n",
            "Mean squared error Test :  1.1441006376578247\n"
          ]
        }
      ]
    },
    {
      "cell_type": "markdown",
      "source": [
        "### **Ridge**"
      ],
      "metadata": {
        "id": "2d7bBXgj2Ngz"
      }
    },
    {
      "cell_type": "code",
      "source": [
        "ridge = Ridge(alpha = 10) # Hyper parameter alpha value should not be 0 or less then 0 or too high\n",
        "ridge.fit(X_train,y_train)\n",
        "train_prediction = ridge.predict(X_train)\n",
        "test_prediction = ridge.predict(X_test)\n",
        "print(\"Mean squared error Train : \",mean_squared_error(y_train,train_prediction))\n",
        "print(\"Mean squared error Test : \",mean_squared_error(y_test,test_prediction))"
      ],
      "metadata": {
        "colab": {
          "base_uri": "https://localhost:8080/"
        },
        "id": "UhoSuda02OQ8",
        "outputId": "4a1532fb-c997-49b4-eb86-404c9ea06dd8"
      },
      "execution_count": null,
      "outputs": [
        {
          "output_type": "stream",
          "name": "stdout",
          "text": [
            "Mean squared error Train :  1.0152559059140083\n",
            "Mean squared error Test :  1.0578812752859441\n"
          ]
        }
      ]
    },
    {
      "cell_type": "markdown",
      "source": [
        "# **Logistic Regression**"
      ],
      "metadata": {
        "id": "MeIzYpRFcb_B"
      }
    },
    {
      "cell_type": "code",
      "source": [
        "import matplotlib.pyplot as plt\n",
        "import pandas as pd\n",
        "import numpy as np\n",
        "import seaborn as sns\n",
        "from sklearn.linear_model import LinearRegression,LogisticRegression,Ridge,Lasso\n",
        "from sklearn.preprocessing import LabelEncoder\n",
        "from sklearn.model_selection import train_test_split\n",
        "from sklearn.metrics import mean_squared_error\n",
        "from sklearn.metrics import confusion_matrix,accuracy_score,precision_score,recall_score,f1_score"
      ],
      "metadata": {
        "id": "uY8T0zwHckz3"
      },
      "execution_count": null,
      "outputs": []
    },
    {
      "cell_type": "markdown",
      "source": [
        "**Dummy dataset Prediction**"
      ],
      "metadata": {
        "id": "_D4m3fMhd3X3"
      }
    },
    {
      "cell_type": "code",
      "source": [
        "lr = LogisticRegression()\n",
        "X = np.array([2.78,2.44,2.09,0.14,1.72,1.65,4.92,4.37,4.96,4.52,3.69,5.88]).reshape(-1,1)\n",
        "y = np.array([0,0,0,0,0,0,1,1,1,1,1,1]).reshape(-1,1)\n",
        "\n",
        "lr.fit(X,y)\n",
        "prediction = lr.predict([[5.87]])\n",
        "print(prediction)"
      ],
      "metadata": {
        "colab": {
          "base_uri": "https://localhost:8080/"
        },
        "id": "fRuRAPZGd3yB",
        "outputId": "539cc03c-1e60-42fd-a236-0f81c33f61a8"
      },
      "execution_count": null,
      "outputs": [
        {
          "output_type": "stream",
          "name": "stdout",
          "text": [
            "[1]\n"
          ]
        },
        {
          "output_type": "stream",
          "name": "stderr",
          "text": [
            "/usr/local/lib/python3.9/dist-packages/sklearn/utils/validation.py:1143: DataConversionWarning: A column-vector y was passed when a 1d array was expected. Please change the shape of y to (n_samples, ), for example using ravel().\n",
            "  y = column_or_1d(y, warn=True)\n"
          ]
        }
      ]
    },
    {
      "cell_type": "markdown",
      "source": [
        "## **Titanic data set**"
      ],
      "metadata": {
        "id": "7Nc6emo9he8G"
      }
    },
    {
      "cell_type": "code",
      "source": [
        "df = sns.load_dataset('titanic')\n",
        "print(df)"
      ],
      "metadata": {
        "colab": {
          "base_uri": "https://localhost:8080/"
        },
        "id": "EqavKT3rhm5J",
        "outputId": "02020b73-cbbc-410d-9489-0061815ce989"
      },
      "execution_count": null,
      "outputs": [
        {
          "output_type": "stream",
          "name": "stdout",
          "text": [
            "     survived  pclass     sex   age  sibsp  parch     fare embarked   class  \\\n",
            "0           0       3    male  22.0      1      0   7.2500        S   Third   \n",
            "1           1       1  female  38.0      1      0  71.2833        C   First   \n",
            "2           1       3  female  26.0      0      0   7.9250        S   Third   \n",
            "3           1       1  female  35.0      1      0  53.1000        S   First   \n",
            "4           0       3    male  35.0      0      0   8.0500        S   Third   \n",
            "..        ...     ...     ...   ...    ...    ...      ...      ...     ...   \n",
            "886         0       2    male  27.0      0      0  13.0000        S  Second   \n",
            "887         1       1  female  19.0      0      0  30.0000        S   First   \n",
            "888         0       3  female   NaN      1      2  23.4500        S   Third   \n",
            "889         1       1    male  26.0      0      0  30.0000        C   First   \n",
            "890         0       3    male  32.0      0      0   7.7500        Q   Third   \n",
            "\n",
            "       who  adult_male deck  embark_town alive  alone  \n",
            "0      man        True  NaN  Southampton    no  False  \n",
            "1    woman       False    C    Cherbourg   yes  False  \n",
            "2    woman       False  NaN  Southampton   yes   True  \n",
            "3    woman       False    C  Southampton   yes  False  \n",
            "4      man        True  NaN  Southampton    no   True  \n",
            "..     ...         ...  ...          ...   ...    ...  \n",
            "886    man        True  NaN  Southampton    no   True  \n",
            "887  woman       False    B  Southampton   yes   True  \n",
            "888  woman       False  NaN  Southampton    no  False  \n",
            "889    man        True    C    Cherbourg   yes   True  \n",
            "890    man        True  NaN   Queenstown    no   True  \n",
            "\n",
            "[891 rows x 15 columns]\n"
          ]
        }
      ]
    },
    {
      "cell_type": "code",
      "source": [
        "le = LabelEncoder()\n",
        "le.fit(df['sex'])\n",
        "df['sex'] = le.transform(df['sex'])\n",
        "\n",
        "le.fit(df['class'])\n",
        "df['class'] = le.transform(df['class'])\n",
        "\n",
        "le.fit(df['embarked'])\n",
        "df['embarked'] = le.transform(df['embarked'])\n",
        "\n",
        "le.fit(df['who'])\n",
        "df['who'] = le.transform(df['who'])\n",
        "\n",
        "le.fit(df['adult_male'])\n",
        "df['adult_male'] = le.transform(df['adult_male'])\n",
        "\n",
        "le.fit(df['embark_town'])\n",
        "df['embark_town'] = le.transform(df['embark_town'])\n",
        "\n",
        "le.fit(df['deck'])\n",
        "df['deck'] = le.transform(df['deck'])\n",
        "\n",
        "le.fit(df['alive'])\n",
        "df['alive'] = le.transform(df['alive'])\n",
        "\n",
        "le.fit(df['alone'])\n",
        "df['alone'] = le.transform(df['alone'])\n",
        "\n",
        "le.fit(df['alone'])\n",
        "df['alone'] = le.transform(df['alone'])\n",
        "print(df)"
      ],
      "metadata": {
        "colab": {
          "base_uri": "https://localhost:8080/"
        },
        "id": "nQwYmPsFiZ7r",
        "outputId": "6126ba56-3a81-4556-c7bb-87b19d3d7bf7"
      },
      "execution_count": null,
      "outputs": [
        {
          "output_type": "stream",
          "name": "stdout",
          "text": [
            "     survived  pclass  sex   age  sibsp  parch     fare  embarked  class  who  \\\n",
            "0           0       3    1  22.0      1      0   7.2500         2      2    1   \n",
            "1           1       1    0  38.0      1      0  71.2833         0      0    2   \n",
            "2           1       3    0  26.0      0      0   7.9250         2      2    2   \n",
            "3           1       1    0  35.0      1      0  53.1000         2      0    2   \n",
            "4           0       3    1  35.0      0      0   8.0500         2      2    1   \n",
            "..        ...     ...  ...   ...    ...    ...      ...       ...    ...  ...   \n",
            "886         0       2    1  27.0      0      0  13.0000         2      1    1   \n",
            "887         1       1    0  19.0      0      0  30.0000         2      0    2   \n",
            "888         0       3    0   NaN      1      2  23.4500         2      2    2   \n",
            "889         1       1    1  26.0      0      0  30.0000         0      0    1   \n",
            "890         0       3    1  32.0      0      0   7.7500         1      2    1   \n",
            "\n",
            "     adult_male  deck  embark_town  alive  alone  \n",
            "0             1     7            2      0      0  \n",
            "1             0     2            0      1      0  \n",
            "2             0     7            2      1      1  \n",
            "3             0     2            2      1      0  \n",
            "4             1     7            2      0      1  \n",
            "..          ...   ...          ...    ...    ...  \n",
            "886           1     7            2      0      1  \n",
            "887           0     1            2      1      1  \n",
            "888           0     7            2      0      0  \n",
            "889           1     2            0      1      1  \n",
            "890           1     7            1      0      1  \n",
            "\n",
            "[891 rows x 15 columns]\n"
          ]
        }
      ]
    },
    {
      "cell_type": "markdown",
      "source": [
        "**CLEANING (NULL)**"
      ],
      "metadata": {
        "id": "qKNYseJbkr_I"
      }
    },
    {
      "cell_type": "code",
      "source": [
        "df = df.fillna(method = \"pad\") #padding copy the datas from the previous row and paste it on the null values.''\n",
        "print(df)"
      ],
      "metadata": {
        "colab": {
          "base_uri": "https://localhost:8080/"
        },
        "id": "c8unn3Frk0kL",
        "outputId": "602bb185-0f3f-4d33-db96-7b47d7fcb89b"
      },
      "execution_count": null,
      "outputs": [
        {
          "output_type": "stream",
          "name": "stdout",
          "text": [
            "     survived  pclass  sex   age  sibsp  parch     fare  embarked  class  who  \\\n",
            "0           0       3    1  22.0      1      0   7.2500         2      2    1   \n",
            "1           1       1    0  38.0      1      0  71.2833         0      0    2   \n",
            "2           1       3    0  26.0      0      0   7.9250         2      2    2   \n",
            "3           1       1    0  35.0      1      0  53.1000         2      0    2   \n",
            "4           0       3    1  35.0      0      0   8.0500         2      2    1   \n",
            "..        ...     ...  ...   ...    ...    ...      ...       ...    ...  ...   \n",
            "886         0       2    1  27.0      0      0  13.0000         2      1    1   \n",
            "887         1       1    0  19.0      0      0  30.0000         2      0    2   \n",
            "888         0       3    0  19.0      1      2  23.4500         2      2    2   \n",
            "889         1       1    1  26.0      0      0  30.0000         0      0    1   \n",
            "890         0       3    1  32.0      0      0   7.7500         1      2    1   \n",
            "\n",
            "     adult_male  deck  embark_town  alive  alone  \n",
            "0             1     7            2      0      0  \n",
            "1             0     2            0      1      0  \n",
            "2             0     7            2      1      1  \n",
            "3             0     2            2      1      0  \n",
            "4             1     7            2      0      1  \n",
            "..          ...   ...          ...    ...    ...  \n",
            "886           1     7            2      0      1  \n",
            "887           0     1            2      1      1  \n",
            "888           0     7            2      0      0  \n",
            "889           1     2            0      1      1  \n",
            "890           1     7            1      0      1  \n",
            "\n",
            "[891 rows x 15 columns]\n"
          ]
        }
      ]
    },
    {
      "cell_type": "markdown",
      "source": [
        "**Prediction**"
      ],
      "metadata": {
        "id": "_hAtivc9oZkQ"
      }
    },
    {
      "cell_type": "code",
      "source": [
        "X = df.drop(['alive'],axis = 1) #To delete the colum temporarily and assingn except this all other colums are independent variable. \n",
        "#Incase if we i give 'inplace = True' then the column will be deleted permanently frtom the data set.\n",
        "y = df['alive']\n",
        "\n",
        "lr = LogisticRegression()\n",
        "lr.fit(X,y)\n",
        "prediction = lr.predict(X)\n",
        "df['predicted'] = prediction\n",
        "print(df)"
      ],
      "metadata": {
        "colab": {
          "base_uri": "https://localhost:8080/"
        },
        "id": "FSyNjwKOnatr",
        "outputId": "d639c045-0385-4aae-db78-de281583cb24"
      },
      "execution_count": null,
      "outputs": [
        {
          "output_type": "stream",
          "name": "stdout",
          "text": [
            "     survived  pclass  sex   age  sibsp  parch     fare  embarked  class  who  \\\n",
            "0           0       3    1  22.0      1      0   7.2500         2      2    1   \n",
            "1           1       1    0  38.0      1      0  71.2833         0      0    2   \n",
            "2           1       3    0  26.0      0      0   7.9250         2      2    2   \n",
            "3           1       1    0  35.0      1      0  53.1000         2      0    2   \n",
            "4           0       3    1  35.0      0      0   8.0500         2      2    1   \n",
            "..        ...     ...  ...   ...    ...    ...      ...       ...    ...  ...   \n",
            "886         0       2    1  27.0      0      0  13.0000         2      1    1   \n",
            "887         1       1    0  19.0      0      0  30.0000         2      0    2   \n",
            "888         0       3    0  19.0      1      2  23.4500         2      2    2   \n",
            "889         1       1    1  26.0      0      0  30.0000         0      0    1   \n",
            "890         0       3    1  32.0      0      0   7.7500         1      2    1   \n",
            "\n",
            "     adult_male  deck  embark_town  alive  alone  predicted  \n",
            "0             1     7            2      0      0          0  \n",
            "1             0     2            0      1      0          1  \n",
            "2             0     7            2      1      1          1  \n",
            "3             0     2            2      1      0          1  \n",
            "4             1     7            2      0      1          0  \n",
            "..          ...   ...          ...    ...    ...        ...  \n",
            "886           1     7            2      0      1          0  \n",
            "887           0     1            2      1      1          1  \n",
            "888           0     7            2      0      0          0  \n",
            "889           1     2            0      1      1          1  \n",
            "890           1     7            1      0      1          0  \n",
            "\n",
            "[891 rows x 16 columns]\n"
          ]
        },
        {
          "output_type": "stream",
          "name": "stderr",
          "text": [
            "/usr/local/lib/python3.9/dist-packages/sklearn/linear_model/_logistic.py:458: ConvergenceWarning: lbfgs failed to converge (status=1):\n",
            "STOP: TOTAL NO. of ITERATIONS REACHED LIMIT.\n",
            "\n",
            "Increase the number of iterations (max_iter) or scale the data as shown in:\n",
            "    https://scikit-learn.org/stable/modules/preprocessing.html\n",
            "Please also refer to the documentation for alternative solver options:\n",
            "    https://scikit-learn.org/stable/modules/linear_model.html#logistic-regression\n",
            "  n_iter_i = _check_optimize_result(\n"
          ]
        }
      ]
    },
    {
      "cell_type": "markdown",
      "source": [
        "### **Confusion Matrix**"
      ],
      "metadata": {
        "id": "rb0aY26g3W34"
      }
    },
    {
      "cell_type": "code",
      "source": [
        "print(confusion_matrix(y,prediction)) # y-actual dependant data, prediction- what we predicted"
      ],
      "metadata": {
        "colab": {
          "base_uri": "https://localhost:8080/"
        },
        "id": "pqoWHpwV3XIp",
        "outputId": "93bdad1e-0211-457d-91ce-15fe06a3aed1"
      },
      "execution_count": null,
      "outputs": [
        {
          "output_type": "stream",
          "name": "stdout",
          "text": [
            "[[549   0]\n",
            " [  0 342]]\n"
          ]
        }
      ]
    },
    {
      "cell_type": "markdown",
      "source": [
        "no miss classification in the flight data set"
      ],
      "metadata": {
        "id": "W69toS146dyG"
      }
    },
    {
      "cell_type": "markdown",
      "source": [
        "Accuracy score"
      ],
      "metadata": {
        "id": "-Hmm5Sv66Vnn"
      }
    },
    {
      "cell_type": "code",
      "source": [
        "print(accuracy_score(y,prediction))"
      ],
      "metadata": {
        "colab": {
          "base_uri": "https://localhost:8080/"
        },
        "id": "a8GIVT7K6T3U",
        "outputId": "b4998136-2e05-46b3-db27-90776e48dd6e"
      },
      "execution_count": null,
      "outputs": [
        {
          "output_type": "stream",
          "name": "stdout",
          "text": [
            "1.0\n"
          ]
        }
      ]
    },
    {
      "cell_type": "markdown",
      "source": [
        "no missclassification so accuracy score is 1.0"
      ],
      "metadata": {
        "id": "OUiemR9Z6--B"
      }
    },
    {
      "cell_type": "markdown",
      "source": [
        "precision"
      ],
      "metadata": {
        "id": "j0nXy3kQ7x5f"
      }
    },
    {
      "cell_type": "code",
      "source": [
        "print(precision_score(y,prediction))"
      ],
      "metadata": {
        "colab": {
          "base_uri": "https://localhost:8080/"
        },
        "id": "Vgrs-F4V7yUW",
        "outputId": "539b833e-bcc7-491b-a301-1197b6af1fe9"
      },
      "execution_count": null,
      "outputs": [
        {
          "output_type": "stream",
          "name": "stdout",
          "text": [
            "1.0\n"
          ]
        }
      ]
    },
    {
      "cell_type": "markdown",
      "source": [
        "recall"
      ],
      "metadata": {
        "id": "r8sPN3Qi7ykI"
      }
    },
    {
      "cell_type": "code",
      "source": [
        "print(recall_score(y,prediction))"
      ],
      "metadata": {
        "colab": {
          "base_uri": "https://localhost:8080/"
        },
        "id": "NHr9iqRQ7yyQ",
        "outputId": "98bc53dc-efed-44e2-9e09-8fdc017b0b95"
      },
      "execution_count": null,
      "outputs": [
        {
          "output_type": "stream",
          "name": "stdout",
          "text": [
            "1.0\n"
          ]
        }
      ]
    },
    {
      "cell_type": "markdown",
      "source": [
        "F1 score"
      ],
      "metadata": {
        "id": "cM_ka00t8dq5"
      }
    },
    {
      "cell_type": "code",
      "source": [
        "print(f1_score(y,prediction))"
      ],
      "metadata": {
        "colab": {
          "base_uri": "https://localhost:8080/"
        },
        "id": "963DLRiH8fxH",
        "outputId": "0fe1d504-f092-4459-cab1-6aa948d2ce1d"
      },
      "execution_count": null,
      "outputs": [
        {
          "output_type": "stream",
          "name": "stdout",
          "text": [
            "1.0\n"
          ]
        }
      ]
    },
    {
      "cell_type": "markdown",
      "source": [
        "# **KNN**"
      ],
      "metadata": {
        "id": "JnMD_9QTq7_r"
      }
    },
    {
      "cell_type": "code",
      "source": [
        "import matplotlib.pyplot as plt\n",
        "import pandas as pd\n",
        "import numpy as np\n",
        "import seaborn as sns\n",
        "from sklearn.linear_model import LinearRegression,LogisticRegression,Ridge,Lasso\n",
        "from sklearn.preprocessing import LabelEncoder\n",
        "from sklearn.model_selection import train_test_split\n",
        "from sklearn.metrics import mean_squared_error\n",
        "from sklearn.metrics import confusion_matrix,accuracy_score,precision_score,recall_score,f1_score\n",
        "from sklearn.neighbors import KNeighborsClassifier"
      ],
      "metadata": {
        "id": "cNVIUuArriDh"
      },
      "execution_count": null,
      "outputs": []
    },
    {
      "cell_type": "code",
      "source": [
        "df = pd.read_csv(\"/content/diabetes.csv\")\n",
        "print(df)"
      ],
      "metadata": {
        "colab": {
          "base_uri": "https://localhost:8080/"
        },
        "id": "wqxm3pd-q-36",
        "outputId": "a534766d-3968-4bcc-91da-4ca14b7adb94"
      },
      "execution_count": null,
      "outputs": [
        {
          "output_type": "stream",
          "name": "stdout",
          "text": [
            "     Pregnancies  Glucose  BloodPressure  SkinThickness  Insulin   BMI  \\\n",
            "0              6      148             72             35        0  33.6   \n",
            "1              1       85             66             29        0  26.6   \n",
            "2              8      183             64              0        0  23.3   \n",
            "3              1       89             66             23       94  28.1   \n",
            "4              0      137             40             35      168  43.1   \n",
            "..           ...      ...            ...            ...      ...   ...   \n",
            "763           10      101             76             48      180  32.9   \n",
            "764            2      122             70             27        0  36.8   \n",
            "765            5      121             72             23      112  26.2   \n",
            "766            1      126             60              0        0  30.1   \n",
            "767            1       93             70             31        0  30.4   \n",
            "\n",
            "     DiabetesPedigreeFunction  Age  Outcome  \n",
            "0                       0.627   50        1  \n",
            "1                       0.351   31        0  \n",
            "2                       0.672   32        1  \n",
            "3                       0.167   21        0  \n",
            "4                       2.288   33        1  \n",
            "..                        ...  ...      ...  \n",
            "763                     0.171   63        0  \n",
            "764                     0.340   27        0  \n",
            "765                     0.245   30        0  \n",
            "766                     0.349   47        1  \n",
            "767                     0.315   23        0  \n",
            "\n",
            "[768 rows x 9 columns]\n"
          ]
        }
      ]
    },
    {
      "cell_type": "markdown",
      "source": [
        "### **prediction**"
      ],
      "metadata": {
        "id": "0eTBphziz_yC"
      }
    },
    {
      "cell_type": "code",
      "source": [
        "X = df.drop(['Outcome'], axis=1)\n",
        "y = df['Outcome']"
      ],
      "metadata": {
        "id": "GdBIR0UFuH5o"
      },
      "execution_count": null,
      "outputs": []
    },
    {
      "cell_type": "code",
      "source": [
        "knc = KNeighborsClassifier()\n",
        "knc.fit(X,y)\n",
        "prediction = knc.predict(X)\n",
        "df['predict'] = prediction\n",
        "print(df)\n"
      ],
      "metadata": {
        "colab": {
          "base_uri": "https://localhost:8080/"
        },
        "id": "r5HeHN2cvI-X",
        "outputId": "b30c84a6-5802-41a8-e613-2e1f40cc9415"
      },
      "execution_count": null,
      "outputs": [
        {
          "output_type": "stream",
          "name": "stdout",
          "text": [
            "     Pregnancies  Glucose  BloodPressure  SkinThickness  Insulin   BMI  \\\n",
            "0              6      148             72             35        0  33.6   \n",
            "1              1       85             66             29        0  26.6   \n",
            "2              8      183             64              0        0  23.3   \n",
            "3              1       89             66             23       94  28.1   \n",
            "4              0      137             40             35      168  43.1   \n",
            "..           ...      ...            ...            ...      ...   ...   \n",
            "763           10      101             76             48      180  32.9   \n",
            "764            2      122             70             27        0  36.8   \n",
            "765            5      121             72             23      112  26.2   \n",
            "766            1      126             60              0        0  30.1   \n",
            "767            1       93             70             31        0  30.4   \n",
            "\n",
            "     DiabetesPedigreeFunction  Age  Outcome  predict  \n",
            "0                       0.627   50        1        1  \n",
            "1                       0.351   31        0        0  \n",
            "2                       0.672   32        1        1  \n",
            "3                       0.167   21        0        0  \n",
            "4                       2.288   33        1        1  \n",
            "..                        ...  ...      ...      ...  \n",
            "763                     0.171   63        0        0  \n",
            "764                     0.340   27        0        0  \n",
            "765                     0.245   30        0        0  \n",
            "766                     0.349   47        1        1  \n",
            "767                     0.315   23        0        0  \n",
            "\n",
            "[768 rows x 10 columns]\n"
          ]
        }
      ]
    },
    {
      "cell_type": "markdown",
      "source": [
        "cm,as"
      ],
      "metadata": {
        "id": "m4NEB2Eoht58"
      }
    },
    {
      "cell_type": "code",
      "source": [
        "print(confusion_matrix(y,prediction))"
      ],
      "metadata": {
        "colab": {
          "base_uri": "https://localhost:8080/"
        },
        "id": "mUYNBs2KwdRK",
        "outputId": "7e2e4ed4-f096-4dd0-e010-1b137addd87a"
      },
      "execution_count": null,
      "outputs": [
        {
          "output_type": "stream",
          "name": "stdout",
          "text": [
            "[[442  58]\n",
            " [ 93 175]]\n"
          ]
        }
      ]
    },
    {
      "cell_type": "code",
      "source": [
        "print(accuracy_score(y,prediction))"
      ],
      "metadata": {
        "colab": {
          "base_uri": "https://localhost:8080/"
        },
        "id": "Eqh_3dFqw5hO",
        "outputId": "5c456f3f-bffb-47c0-8842-764a812a37d0"
      },
      "execution_count": null,
      "outputs": [
        {
          "output_type": "stream",
          "name": "stdout",
          "text": [
            "0.8033854166666666\n"
          ]
        }
      ]
    }
  ]
}