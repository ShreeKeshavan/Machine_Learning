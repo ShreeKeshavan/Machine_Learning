{
  "nbformat": 4,
  "nbformat_minor": 0,
  "metadata": {
    "colab": {
      "provenance": [],
      "authorship_tag": "ABX9TyNdWLskEd3VMC779mKettMo",
      "include_colab_link": true
    },
    "kernelspec": {
      "name": "python3",
      "display_name": "Python 3"
    },
    "language_info": {
      "name": "python"
    }
  },
  "cells": [
    {
      "cell_type": "markdown",
      "metadata": {
        "id": "view-in-github",
        "colab_type": "text"
      },
      "source": [
        "<a href=\"https://colab.research.google.com/github/ShreeKeshavan/Machine_Learning/blob/main/Machine_learning.ipynb\" target=\"_parent\"><img src=\"https://colab.research.google.com/assets/colab-badge.svg\" alt=\"Open In Colab\"/></a>"
      ]
    },
    {
      "cell_type": "markdown",
      "source": [
        "# **Machine Learning**"
      ],
      "metadata": {
        "id": "pBQg6Rgg-F03"
      }
    },
    {
      "cell_type": "code",
      "execution_count": 1,
      "metadata": {
        "id": "FfuvFkCT4X-C",
        "colab": {
          "base_uri": "https://localhost:8080/",
          "height": 282
        },
        "outputId": "db97b516-fd9d-4f1d-8c1f-5186064c031e"
      },
      "outputs": [
        {
          "output_type": "stream",
          "name": "stdout",
          "text": [
            "8.013459823238465 10.76915592313307\n"
          ]
        },
        {
          "output_type": "display_data",
          "data": {
            "text/plain": [
              "<Figure size 432x288 with 1 Axes>"
            ],
            "image/png": "[encoded data removed]"
          },
          "metadata": {
            "needs_background": "light"
          }
        }
      ],
      "source": [
        "import matplotlib.pyplot as plt\n",
        "from scipy import stats\n",
        "\n",
        "x = [2,3,4,4.4,5,5.2,4.2,6.0,8,5,6,2,3,4]\n",
        "y = [30,42,45,56,42,45,48,60,80,56,65,45,12,20] #Data set\n",
        "\n",
        "slope, intercept,r,p,std_err = stats.linregress(x,y) #To calculate the slope,intercept of the best line , R, P, standard error using scipy.\n",
        "print(slope,intercept)\n",
        "\n",
        "plt.scatter(x,y) #to plot the scatter of x,y \n",
        "plt.show()\n",
        "\n",
        "\n",
        "\n"
      ]
    },
    {
      "cell_type": "code",
      "source": [
        "def myfunc(x,slope,intercept): #To find (y = mx+c) x is m, slope is x, intercept is c.\n",
        "  return x*slope+intercept #To find y \n",
        "\n",
        "slope, intercept,r,p,std_err = stats.linregress(x,y) #To calculate the slope,intercept of the best line , R, P, standard error using scipy.\n",
        "\n",
        "new_y = []\n",
        "for x_value in x:\n",
        "  temp_y = myfunc(x_value,slope,intercept)\n",
        "  new_y.append(temp_y)\n",
        "print(new_y) #To find the new y (predicted y)\n",
        "\n",
        "plt.scatter(x,y)\n",
        "plt.plot(x,new_y) #plot the new_y (minimum error line)\n",
        "plt.show() \n"
      ],
      "metadata": {
        "colab": {
          "base_uri": "https://localhost:8080/",
          "height": 302
        },
        "id": "3OOQjl1PflB5",
        "outputId": "cb2219a5-f7e2-4d48-b143-ad321fdd44db"
      },
      "execution_count": 2,
      "outputs": [
        {
          "output_type": "stream",
          "name": "stdout",
          "text": [
            "[26.79607556961, 34.80953539284847, 42.82299521608693, 46.02837914538232, 50.836455039325394, 52.43914700397309, 44.42568718073463, 58.849914862563864, 74.87683450904079, 50.836455039325394, 58.849914862563864, 26.79607556961, 34.80953539284847, 42.82299521608693]\n"
          ]
        },
        {
          "output_type": "display_data",
          "data": {
            "text/plain": [
              "<Figure size 432x288 with 1 Axes>"
            ],
            "image/png": "[encoded data removed]"
          },
          "metadata": {
            "needs_background": "light"
          }
        }
      ]
    }
  ]
}