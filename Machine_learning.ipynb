{
  "nbformat": 4,
  "nbformat_minor": 0,
  "metadata": {
    "colab": {
      "provenance": [],
      "authorship_tag": "ABX9TyNQRoxcN3+G7KIDu9MYIvig",
      "include_colab_link": true
    },
    "kernelspec": {
      "name": "python3",
      "display_name": "Python 3"
    },
    "language_info": {
      "name": "python"
    }
  },
  "cells": [
    {
      "cell_type": "markdown",
      "metadata": {
        "id": "view-in-github",
        "colab_type": "text"
      },
      "source": [
        "<a href=\"https://colab.research.google.com/github/ShreeKeshavan/Machine_Learning/blob/main/Machine_learning.ipynb\" target=\"_parent\"><img src=\"https://colab.research.google.com/assets/colab-badge.svg\" alt=\"Open In Colab\"/></a>"
      ]
    },
    {
      "cell_type": "markdown",
      "source": [
        "# **Linear Regression**"
      ],
      "metadata": {
        "id": "pBQg6Rgg-F03"
      }
    },
    {
      "cell_type": "markdown",
      "source": [
        "### **Basics Of Linear Regression**"
      ],
      "metadata": {
        "id": "1V14jCZ0P5BL"
      }
    },
    {
      "cell_type": "code",
      "execution_count": null,
      "metadata": {
        "id": "FfuvFkCT4X-C",
        "colab": {
          "base_uri": "https://localhost:8080/",
          "height": 282
        },
        "outputId": "db97b516-fd9d-4f1d-8c1f-5186064c031e"
      },
      "outputs": [
        {
          "output_type": "stream",
          "name": "stdout",
          "text": [
            "8.013459823238465 10.76915592313307\n"
          ]
        },
        {
          "output_type": "display_data",
          "data": {
            "text/plain": [
              "<Figure size 432x288 with 1 Axes>"
            ],
            "image/png": "[encoded data removed]"
          },
          "metadata": {
            "needs_background": "light"
          }
        }
      ],
      "source": [
        "import matplotlib.pyplot as plt\n",
        "from scipy import stats\n",
        "\n",
        "x = [2,3,4,4.4,5,5.2,4.2,6.0,8,5,6,2,3,4]\n",
        "y = [30,42,45,56,42,45,48,60,80,56,65,45,12,20] #Data set\n",
        "\n",
        "slope, intercept,r,p,std_err = stats.linregress(x,y) #To calculate the slope,intercept of the best line , R, P, standard error using scipy.\n",
        "print(slope,intercept)\n",
        "\n",
        "plt.scatter(x,y) #To plot the scatter of x,y \n",
        "plt.show()\n",
        "\n",
        "\n",
        "\n"
      ]
    },
    {
      "cell_type": "code",
      "source": [
        "def myfunc(x,slope,intercept): #To find (y = mx+c) x is m, slope is x, intercept is c.\n",
        "  return x*slope+intercept #To find y \n",
        "\n",
        "slope, intercept,r,p,std_err = stats.linregress(x,y) #To calculate the slope,intercept of the best line , R, P, standard error using scipy.\n",
        "\n",
        "new_y = []\n",
        "for x_value in x:\n",
        "  temp_y = myfunc(x_value,slope,intercept)\n",
        "  new_y.append(temp_y)\n",
        "print(new_y) #To find the new y (predicted y)\n",
        "\n",
        "plt.scatter(x,y)\n",
        "plt.plot(x,new_y) #Plot the new_y (minimum error line)\n",
        "plt.show() \n"
      ],
      "metadata": {
        "colab": {
          "base_uri": "https://localhost:8080/",
          "height": 302
        },
        "id": "3OOQjl1PflB5",
        "outputId": "cb2219a5-f7e2-4d48-b143-ad321fdd44db"
      },
      "execution_count": null,
      "outputs": [
        {
          "output_type": "stream",
          "name": "stdout",
          "text": [
            "[26.79607556961, 34.80953539284847, 42.82299521608693, 46.02837914538232, 50.836455039325394, 52.43914700397309, 44.42568718073463, 58.849914862563864, 74.87683450904079, 50.836455039325394, 58.849914862563864, 26.79607556961, 34.80953539284847, 42.82299521608693]\n"
          ]
        },
        {
          "output_type": "display_data",
          "data": {
            "text/plain": [
              "<Figure size 432x288 with 1 Axes>"
            ],
            "image/png": "[encoded data removed]"
          },
          "metadata": {
            "needs_background": "light"
          }
        }
      ]
    },
    {
      "cell_type": "markdown",
      "source": [
        "# **SCORE DATA SET**"
      ],
      "metadata": {
        "id": "c44jc1UKPry4"
      }
    },
    {
      "cell_type": "code",
      "source": [
        "#SCORE_DATASET (simple_linear_Regression)\n",
        "import matplotlib.pyplot as plt\n",
        "import pandas as pd\n",
        "from scipy import stats\n",
        "\n",
        "df = pd.read_csv(\"/content/score.csv\")\n",
        "print(df) \n",
        "\n",
        "X = df['Hours'].values\n",
        "y = df['Scores'].values\n",
        "slope,intercept,r,p,Std_err = stats.linregress(X,y)#To find (y = mx+c) x is m, slope is x, intercept is c, r is distance of plot from line,\n",
        "\n",
        "def myfunc(x):\n",
        "  return slope*x +intercept #(y = mx+c)\n",
        "\n",
        "predicted_y = []\n",
        "for x_value in X:\n",
        "  predicted_y.append(myfunc(x_value)) # Precting the minimum error line\n",
        "\n",
        "plt.scatter(X,y)\n",
        "plt.plot(X,predicted_y) #Plotting the minmum error line\n",
        "plt.show()\n"
      ],
      "metadata": {
        "colab": {
          "base_uri": "https://localhost:8080/",
          "height": 716
        },
        "id": "7oAalrxFsLPZ",
        "outputId": "1db33f2d-e1cc-4917-d96d-44c01f608894"
      },
      "execution_count": null,
      "outputs": [
        {
          "output_type": "stream",
          "name": "stdout",
          "text": [
            "    Hours  Scores\n",
            "0     2.5      21\n",
            "1     5.1      47\n",
            "2     3.2      27\n",
            "3     8.5      75\n",
            "4     3.5      30\n",
            "5     1.5      20\n",
            "6     9.2      88\n",
            "7     5.5      60\n",
            "8     8.3      81\n",
            "9     2.7      25\n",
            "10    7.7      85\n",
            "11    5.9      62\n",
            "12    4.5      41\n",
            "13    3.3      42\n",
            "14    1.1      17\n",
            "15    8.9      95\n",
            "16    2.5      30\n",
            "17    1.9      24\n",
            "18    6.1      67\n",
            "19    7.4      69\n",
            "20    2.7      30\n",
            "21    4.8      54\n",
            "22    3.8      35\n",
            "23    6.9      76\n",
            "24    7.8      86\n"
          ]
        },
        {
          "output_type": "display_data",
          "data": {
            "text/plain": [
              "<Figure size 432x288 with 1 Axes>"
            ],
            "image/png": "[encoded data removed]"
          },
          "metadata": {
            "needs_background": "light"
          }
        }
      ]
    },
    {
      "cell_type": "markdown",
      "source": [
        "### **Finding Rscore,Intercept**"
      ],
      "metadata": {
        "id": "3JqX5we3QGrX"
      }
    },
    {
      "cell_type": "code",
      "source": [
        "from sklearn.linear_model import LinearRegression\n",
        "import numpy as np\n",
        "\n",
        "x = np.array([2,3,4,5,1,5,6,7,8,9,10]).reshape(-1,1) #the data should need to be in array while fit\n",
        "y = np.array([23,45,23,45,26,67,87,45,67,23,45])\n",
        "\n",
        "lr = LinearRegression()\n",
        "lr.fit(x,y)\n",
        "print(\"score for regression : \",lr.score(x,y))#To find the R score\n",
        "print(\"LR intercept : \",lr.intercept_) #to find the intercept\n"
      ],
      "metadata": {
        "colab": {
          "base_uri": "https://localhost:8080/"
        },
        "id": "B_LT_2u3IRi4",
        "outputId": "63921bf9-1bb0-4c24-dfd1-846baf45ffd9"
      },
      "execution_count": null,
      "outputs": [
        {
          "output_type": "stream",
          "name": "stdout",
          "text": [
            "score for regression :  0.08960110378080532\n",
            "LR intercept :  32.98901098901099\n"
          ]
        }
      ]
    },
    {
      "cell_type": "markdown",
      "source": [
        "# **Tv_Marketing Data set**"
      ],
      "metadata": {
        "id": "vvFdMBeOQYDG"
      }
    },
    {
      "cell_type": "code",
      "source": [
        "from sklearn.linear_model import LinearRegression\n",
        "from sklearn.model_selection import train_test_split\n",
        "import numpy as np\n",
        "import pandas as pd\n",
        "import seaborn as sns"
      ],
      "metadata": {
        "id": "LYkYJlBCOvkP"
      },
      "execution_count": null,
      "outputs": []
    },
    {
      "cell_type": "code",
      "source": [
        "df = pd.read_csv(\"/content/tvmarketing.csv\")"
      ],
      "metadata": {
        "id": "ayEw7XnOZ-wY"
      },
      "execution_count": null,
      "outputs": []
    },
    {
      "cell_type": "code",
      "source": [
        "print(df.info()) #Information about data"
      ],
      "metadata": {
        "colab": {
          "base_uri": "https://localhost:8080/"
        },
        "id": "Ngogaml6aIPn",
        "outputId": "f5ab5292-9e39-4bfd-9bb7-d86067769af8"
      },
      "execution_count": null,
      "outputs": [
        {
          "output_type": "stream",
          "name": "stdout",
          "text": [
            "<class 'pandas.core.frame.DataFrame'>\n",
            "RangeIndex: 200 entries, 0 to 199\n",
            "Data columns (total 2 columns):\n",
            " #   Column  Non-Null Count  Dtype  \n",
            "---  ------  --------------  -----  \n",
            " 0   TV      200 non-null    float64\n",
            " 1   Sales   200 non-null    float64\n",
            "dtypes: float64(2)\n",
            "memory usage: 3.2 KB\n",
            "None\n"
          ]
        }
      ]
    },
    {
      "cell_type": "code",
      "source": [
        "print(df.describe()) #Description of the data"
      ],
      "metadata": {
        "colab": {
          "base_uri": "https://localhost:8080/"
        },
        "id": "BXreDNL_aPb-",
        "outputId": "c5039b52-97f6-4ce7-ccbd-f4967172fc6c"
      },
      "execution_count": null,
      "outputs": [
        {
          "output_type": "stream",
          "name": "stdout",
          "text": [
            "               TV       Sales\n",
            "count  200.000000  200.000000\n",
            "mean   147.042500   14.022500\n",
            "std     85.854236    5.217457\n",
            "min      0.700000    1.600000\n",
            "25%     74.375000   10.375000\n",
            "50%    149.750000   12.900000\n",
            "75%    218.825000   17.400000\n",
            "max    296.400000   27.000000\n"
          ]
        }
      ]
    },
    {
      "cell_type": "code",
      "source": [
        "sns.scatterplot(data=df, x=\"TV\", y=\"Sales\")"
      ],
      "metadata": {
        "colab": {
          "base_uri": "https://localhost:8080/",
          "height": 296
        },
        "id": "7FWe3TZ9aTJk",
        "outputId": "84cba57c-4886-4e5d-c66d-217771437111"
      },
      "execution_count": null,
      "outputs": [
        {
          "output_type": "execute_result",
          "data": {
            "text/plain": [
              "<AxesSubplot:xlabel='TV', ylabel='Sales'>"
            ]
          },
          "metadata": {},
          "execution_count": 27
        },
        {
          "output_type": "display_data",
          "data": {
            "text/plain": [
              "<Figure size 432x288 with 1 Axes>"
            ],
            "image/png": "[encoded data removed]"
          },
          "metadata": {
            "needs_background": "light"
          }
        }
      ]
    },
    {
      "cell_type": "code",
      "source": [
        "#Line formula - y = m1x1+m0 \n",
        "# Equation for this dataset - Sales = m1*TV+m0\n",
        "X = df[[\"TV\"]] \n",
        "Y = df[\"Sales\"]\n",
        "\n",
        "#Splitting \n",
        "X_train,X_test,Y_train,Y_test = train_test_split(X,Y,test_size=0.3,random_state=0) #can give anyone test_size or train_size \n",
        "\n",
        "lr = LinearRegression() #creating object \n",
        "lr.fit(X_train,Y_train) #Always use train data in fit\n",
        "\n",
        "print(\"score for regression : \",lr.score(X_train,Y_train))#To find the R score\n",
        "print(\"LR intercept : \",lr.intercept_) #to find the intercept\n",
        "print(\"Coeff : \", lr.coef_ ) #slope"
      ],
      "metadata": {
        "colab": {
          "base_uri": "https://localhost:8080/"
        },
        "id": "AwLVADMMavzq",
        "outputId": "e5e93b26-ea1f-48a3-99d7-2622f3241224"
      },
      "execution_count": null,
      "outputs": [
        {
          "output_type": "stream",
          "name": "stdout",
          "text": [
            "score for regression :  0.5552336104251212\n",
            "LR intercept :  7.310810165411681\n",
            "Coeff :  [0.04581434]\n"
          ]
        }
      ]
    },
    {
      "cell_type": "code",
      "source": [
        "#Prediction\n",
        "Y_predicted = lr.predict(X_train) \n",
        "sns.lmplot(x ='TV', y = 'Sales', data=df,aspect=1.5,height=6) #To visualise prediction using lmplot"
      ],
      "metadata": {
        "colab": {
          "base_uri": "https://localhost:8080/",
          "height": 458
        },
        "id": "RCA3GnsHgXSz",
        "outputId": "2a25083c-dd23-4b79-cbc5-66d67d8c9a8e"
      },
      "execution_count": null,
      "outputs": [
        {
          "output_type": "execute_result",
          "data": {
            "text/plain": [
              "<seaborn.axisgrid.FacetGrid at 0x7fcc4adadfd0>"
            ]
          },
          "metadata": {},
          "execution_count": 48
        },
        {
          "output_type": "display_data",
          "data": {
            "text/plain": [
              "<Figure size 648x432 with 1 Axes>"
            ],
            "image/png": "[encoded data removed]"
          },
          "metadata": {
            "needs_background": "light"
          }
        }
      ]
    },
    {
      "cell_type": "code",
      "source": [
        "#computating the Train ERROR\n",
        "print(sum(abs(Y_train - Y_predicted))/len(Y_train)) # formula of mean of the error - sum(predicted - actual)2/n"
      ],
      "metadata": {
        "colab": {
          "base_uri": "https://localhost:8080/"
        },
        "id": "tuAf10D4itf3",
        "outputId": "934fe066-eb65-45c5-bf57-8eced496f9ff"
      },
      "execution_count": null,
      "outputs": [
        {
          "output_type": "stream",
          "name": "stdout",
          "text": [
            "2.782980807882148\n"
          ]
        }
      ]
    },
    {
      "cell_type": "code",
      "source": [
        "# Predicting test data\n",
        "y_test_predicted = lr.predict(X_test)"
      ],
      "metadata": {
        "id": "guR2eYOqlQPc"
      },
      "execution_count": null,
      "outputs": []
    },
    {
      "cell_type": "code",
      "source": [
        "#Computating the Test ERROR\n",
        "print(sum(abs(Y_test - y_test_predicted))/len(Y_test)) # formula of mean of the error - sum(predicted - actual)2/n"
      ],
      "metadata": {
        "colab": {
          "base_uri": "https://localhost:8080/"
        },
        "id": "Z_vJZss3lADp",
        "outputId": "c89ae98e-9664-42bb-b17b-fecc1b224307"
      },
      "execution_count": null,
      "outputs": [
        {
          "output_type": "stream",
          "name": "stdout",
          "text": [
            "2.0575465794300083\n"
          ]
        }
      ]
    },
    {
      "cell_type": "code",
      "source": [],
      "metadata": {
        "id": "VR0hF3oFR2zz"
      },
      "execution_count": null,
      "outputs": []
    },
    {
      "cell_type": "code",
      "source": [],
      "metadata": {
        "id": "9xx6i7AfT0SP"
      },
      "execution_count": null,
      "outputs": []
    }
  ]
}