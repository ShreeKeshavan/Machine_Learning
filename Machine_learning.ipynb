{
  "nbformat": 4,
  "nbformat_minor": 0,
  "metadata": {
    "colab": {
      "provenance": [],
      "authorship_tag": "ABX9TyOScIKkQY3vIZSv9Jiyuo+6",
      "include_colab_link": true
    },
    "kernelspec": {
      "name": "python3",
      "display_name": "Python 3"
    },
    "language_info": {
      "name": "python"
    }
  },
  "cells": [
    {
      "cell_type": "markdown",
      "metadata": {
        "id": "view-in-github",
        "colab_type": "text"
      },
      "source": [
        "<a href=\"https://colab.research.google.com/github/ShreeKeshavan/Machine_Learning/blob/main/Machine_learning.ipynb\" target=\"_parent\"><img src=\"https://colab.research.google.com/assets/colab-badge.svg\" alt=\"Open In Colab\"/></a>"
      ]
    },
    {
      "cell_type": "markdown",
      "source": [
        "# **Linear Regression**"
      ],
      "metadata": {
        "id": "pBQg6Rgg-F03"
      }
    },
    {
      "cell_type": "code",
      "execution_count": 1,
      "metadata": {
        "id": "FfuvFkCT4X-C",
        "colab": {
          "base_uri": "https://localhost:8080/",
          "height": 282
        },
        "outputId": "db97b516-fd9d-4f1d-8c1f-5186064c031e"
      },
      "outputs": [
        {
          "output_type": "stream",
          "name": "stdout",
          "text": [
            "8.013459823238465 10.76915592313307\n"
          ]
        },
        {
          "output_type": "display_data",
          "data": {
            "text/plain": [
              "<Figure size 432x288 with 1 Axes>"
            ],
            "image/png": "[encoded data removed]"
          },
          "metadata": {
            "needs_background": "light"
          }
        }
      ],
      "source": [
        "import matplotlib.pyplot as plt\n",
        "from scipy import stats\n",
        "\n",
        "x = [2,3,4,4.4,5,5.2,4.2,6.0,8,5,6,2,3,4]\n",
        "y = [30,42,45,56,42,45,48,60,80,56,65,45,12,20] #Data set\n",
        "\n",
        "slope, intercept,r,p,std_err = stats.linregress(x,y) #To calculate the slope,intercept of the best line , R, P, standard error using scipy.\n",
        "print(slope,intercept)\n",
        "\n",
        "plt.scatter(x,y) #to plot the scatter of x,y \n",
        "plt.show()\n",
        "\n",
        "\n",
        "\n"
      ]
    },
    {
      "cell_type": "code",
      "source": [
        "def myfunc(x,slope,intercept): #To find (y = mx+c) x is m, slope is x, intercept is c.\n",
        "  return x*slope+intercept #To find y \n",
        "\n",
        "slope, intercept,r,p,std_err = stats.linregress(x,y) #To calculate the slope,intercept of the best line , R, P, standard error using scipy.\n",
        "\n",
        "new_y = []\n",
        "for x_value in x:\n",
        "  temp_y = myfunc(x_value,slope,intercept)\n",
        "  new_y.append(temp_y)\n",
        "print(new_y) #To find the new y (predicted y)\n",
        "\n",
        "plt.scatter(x,y)\n",
        "plt.plot(x,new_y) #plot the new_y (minimum error line)\n",
        "plt.show() \n"
      ],
      "metadata": {
        "colab": {
          "base_uri": "https://localhost:8080/",
          "height": 302
        },
        "id": "3OOQjl1PflB5",
        "outputId": "cb2219a5-f7e2-4d48-b143-ad321fdd44db"
      },
      "execution_count": 2,
      "outputs": [
        {
          "output_type": "stream",
          "name": "stdout",
          "text": [
            "[26.79607556961, 34.80953539284847, 42.82299521608693, 46.02837914538232, 50.836455039325394, 52.43914700397309, 44.42568718073463, 58.849914862563864, 74.87683450904079, 50.836455039325394, 58.849914862563864, 26.79607556961, 34.80953539284847, 42.82299521608693]\n"
          ]
        },
        {
          "output_type": "display_data",
          "data": {
            "text/plain": [
              "<Figure size 432x288 with 1 Axes>"
            ],
            "image/png": "[encoded data removed]"
          },
          "metadata": {
            "needs_background": "light"
          }
        }
      ]
    },
    {
      "cell_type": "code",
      "source": [
        "#SCORE_DATASET (simple_linear_Regression)\n",
        "import matplotlib.pyplot as plt\n",
        "import pandas as pd\n",
        "from scipy import stats\n",
        "\n",
        "df = pd.read_csv(\"/content/score.csv\")\n",
        "print(df) \n",
        "\n",
        "X = df['Hours'].values\n",
        "y = df['Scores'].values\n",
        "slope,intercept,r,p,Std_err = stats.linregress(X,y)#To find (y = mx+c) x is m, slope is x, intercept is c, r is distance of plot from line,\n",
        "\n",
        "def myfunc(x):\n",
        "  return slope*x +intercept #(y = mx+c)\n",
        "\n",
        "predicted_y = []\n",
        "for x_value in X:\n",
        "  predicted_y.append(myfunc(x_value)) # precting the minimum error line\n",
        "\n",
        "plt.scatter(X,y)\n",
        "plt.plot(X,predicted_y) #plotting the minmum error line\n",
        "plt.show()\n"
      ],
      "metadata": {
        "colab": {
          "base_uri": "https://localhost:8080/",
          "height": 716
        },
        "id": "7oAalrxFsLPZ",
        "outputId": "1db33f2d-e1cc-4917-d96d-44c01f608894"
      },
      "execution_count": 6,
      "outputs": [
        {
          "output_type": "stream",
          "name": "stdout",
          "text": [
            "    Hours  Scores\n",
            "0     2.5      21\n",
            "1     5.1      47\n",
            "2     3.2      27\n",
            "3     8.5      75\n",
            "4     3.5      30\n",
            "5     1.5      20\n",
            "6     9.2      88\n",
            "7     5.5      60\n",
            "8     8.3      81\n",
            "9     2.7      25\n",
            "10    7.7      85\n",
            "11    5.9      62\n",
            "12    4.5      41\n",
            "13    3.3      42\n",
            "14    1.1      17\n",
            "15    8.9      95\n",
            "16    2.5      30\n",
            "17    1.9      24\n",
            "18    6.1      67\n",
            "19    7.4      69\n",
            "20    2.7      30\n",
            "21    4.8      54\n",
            "22    3.8      35\n",
            "23    6.9      76\n",
            "24    7.8      86\n"
          ]
        },
        {
          "output_type": "display_data",
          "data": {
            "text/plain": [
              "<Figure size 432x288 with 1 Axes>"
            ],
            "image/png": "[encoded data removed]"
          },
          "metadata": {
            "needs_background": "light"
          }
        }
      ]
    },
    {
      "cell_type": "code",
      "source": [
        "from sklearn.linear_model import LinearRegression\n",
        "import numpy as np\n",
        "\n",
        "x = np.array([2,3,4,5,1,5,6,7,8,9,10]).reshape(-1,1) #the data should need to be in array while fit\n",
        "y = np.array([23,45,23,45,26,67,87,45,67,23,45])\n",
        "\n",
        "lr = LinearRegression()\n",
        "lr.fit(x,y)\n",
        "print(\"score for regression : \",lr.score(x,y))#To find the R score\n",
        "print(\"LR intercept : \",lr.intercept_) #to find the intercept\n"
      ],
      "metadata": {
        "colab": {
          "base_uri": "https://localhost:8080/"
        },
        "id": "B_LT_2u3IRi4",
        "outputId": "63921bf9-1bb0-4c24-dfd1-846baf45ffd9"
      },
      "execution_count": 14,
      "outputs": [
        {
          "output_type": "stream",
          "name": "stdout",
          "text": [
            "score for regression :  0.08960110378080532\n",
            "LR intercept :  32.98901098901099\n"
          ]
        }
      ]
    }
  ]
}