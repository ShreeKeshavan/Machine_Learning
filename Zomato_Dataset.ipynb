{
  "nbformat": 4,
  "nbformat_minor": 0,
  "metadata": {
    "colab": {
      "provenance": [],
      "authorship_tag": "ABX9TyNwWe/iKLz01VH1qG/qe/dB",
      "include_colab_link": true
    },
    "kernelspec": {
      "name": "python3",
      "display_name": "Python 3"
    },
    "language_info": {
      "name": "python"
    }
  },
  "cells": [
    {
      "cell_type": "markdown",
      "metadata": {
        "id": "view-in-github",
        "colab_type": "text"
      },
      "source": [
        "<a href=\"https://colab.research.google.com/github/ShreeKeshavan/Machine_Learning/blob/main/Zomato_Dataset.ipynb\" target=\"_parent\"><img src=\"https://colab.research.google.com/assets/colab-badge.svg\" alt=\"Open In Colab\"/></a>"
      ]
    },
    {
      "cell_type": "code",
      "execution_count": 6,
      "metadata": {
        "id": "3ZR4c3b7N5LY"
      },
      "outputs": [],
      "source": [
        "import pandas as pd\n",
        "from sklearn.metrics import accuracy_score,confusion_matrix\n",
        "from sklearn.preprocessing import LabelEncoder\n",
        "from sklearn.ensemble import AdaBoostClassifier\n",
        "from sklearn.tree import DecisionTreeClassifier\n",
        "from sklearn.model_selection import train_test_split"
      ]
    },
    {
      "cell_type": "code",
      "source": [
        "df = pd.read_csv('/content/zomato.csv')\n",
        "df"
      ],
      "metadata": {
        "id": "hkWJ2e3LJGEn"
      },
      "execution_count": 4,
      "outputs": []
    },
    {
      "cell_type": "code",
      "source": [
        " #to drop unwanted columns - inplace is to make change permanent\n",
        " df = df.drop(['cuisines','rest_type','location','url','address','name','phone','reviews_list','menu_item','listed_in(type)','listed_in(city)','dish_liked','rate'],axis = 1,inplace=True)"
      ],
      "metadata": {
        "id": "pdaQrEtyogm9"
      },
      "execution_count": null,
      "outputs": []
    },
    {
      "cell_type": "code",
      "source": [
        "#to fill null columns\n",
        "df = df.fillna(method='pad')"
      ],
      "metadata": {
        "id": "4fqR9y6qpBFQ"
      },
      "execution_count": null,
      "outputs": []
    },
    {
      "cell_type": "code",
      "source": [
        "#to count the total num in df\n",
        "print(df.isnull().sum())"
      ],
      "metadata": {
        "id": "D7zM-qdmpPiZ"
      },
      "execution_count": null,
      "outputs": []
    },
    {
      "cell_type": "code",
      "source": [
        "# encoding\n",
        "le = LabelEncoder()\n",
        "le.fit(df['online_order'])\n",
        "df['online_order'] = le.transform(df['online_order')\n",
        "\n",
        "le.fit(df['book_table'])\n",
        "df['book_table'] = le.transform(df['book_table')\n",
        "\n",
        "le.fit(df[''])\n",
        "df[''] = le.transform(df['')"
      ],
      "metadata": {
        "id": "ysdO3iZNpbf-"
      },
      "execution_count": null,
      "outputs": []
    },
    {
      "cell_type": "code",
      "source": [
        "# to get rid of comma eg: 1,000 - 1000\n",
        "df['approx_cost(for two people'] = df['approx_cost(for two people'].replace(\",\",\"\") #replacing\n",
        "print(df['approx_cost(for two people'].replace(\",\",\"\").unique()) #replacing and printing unique values"
      ],
      "metadata": {
        "id": "ibqVK3ofrkuq"
      },
      "execution_count": null,
      "outputs": []
    },
    {
      "cell_type": "code",
      "source": [
        "# to convert the replaced string to int\n",
        "pd.to_numeric(df['approx_cost(for two people'])"
      ],
      "metadata": {
        "id": "162qddSzsR9t"
      },
      "execution_count": null,
      "outputs": []
    },
    {
      "cell_type": "code",
      "source": [
        "# with the 4 columns i need to check wheather the table is booked or not - case\n",
        "#prediction\n"
      ],
      "metadata": {
        "id": "pIf0gyvWtFBc"
      },
      "execution_count": null,
      "outputs": []
    }
  ]
}