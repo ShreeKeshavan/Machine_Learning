{
  "nbformat": 4,
  "nbformat_minor": 0,
  "metadata": {
    "colab": {
      "provenance": [],
      "authorship_tag": "ABX9TyOtg9hTnksQoS9j6Yb0y8tF",
      "include_colab_link": true
    },
    "kernelspec": {
      "name": "python3",
      "display_name": "Python 3"
    },
    "language_info": {
      "name": "python"
    }
  },
  "cells": [
    {
      "cell_type": "markdown",
      "metadata": {
        "id": "view-in-github",
        "colab_type": "text"
      },
      "source": [
        "<a href=\"https://colab.research.google.com/github/ShreeKeshavan/Machine_Learning/blob/main/Zomato_Dataset.ipynb\" target=\"_parent\"><img src=\"https://colab.research.google.com/assets/colab-badge.svg\" alt=\"Open In Colab\"/></a>"
      ]
    },
    {
      "cell_type": "code",
      "execution_count": 7,
      "metadata": {
        "id": "3ZR4c3b7N5LY"
      },
      "outputs": [],
      "source": [
        "import pandas as pd\n",
        "from sklearn.metrics import accuracy_score,confusion_matrix\n",
        "from sklearn.preprocessing import LabelEncoder\n",
        "from sklearn.ensemble import AdaBoostClassifier, RandomForestClassifier\n",
        "from sklearn.tree import DecisionTreeClassifier\n",
        "from sklearn.model_selection import train_test_split"
      ]
    },
    {
      "cell_type": "code",
      "source": [
        "df = pd.read_csv('/content/zomato.csv')\n",
        "df"
      ],
      "metadata": {
        "id": "hkWJ2e3LJGEn"
      },
      "execution_count": 4,
      "outputs": []
    },
    {
      "cell_type": "code",
      "source": [
        " #to drop unwanted columns - inplace is to make change permanent\n",
        " df = df.drop(['cuisines','rest_type','location','url','address','name','phone','reviews_list','menu_item','listed_in(type)','listed_in(city)','dish_liked','rate'],axis = 1,inplace=True)"
      ],
      "metadata": {
        "id": "pdaQrEtyogm9"
      },
      "execution_count": null,
      "outputs": []
    },
    {
      "cell_type": "code",
      "source": [
        "#to fill null columns\n",
        "df = df.fillna(method='pad')"
      ],
      "metadata": {
        "id": "4fqR9y6qpBFQ"
      },
      "execution_count": null,
      "outputs": []
    },
    {
      "cell_type": "code",
      "source": [
        "#to count the total num in df\n",
        "print(df.isnull().sum())"
      ],
      "metadata": {
        "id": "D7zM-qdmpPiZ"
      },
      "execution_count": null,
      "outputs": []
    },
    {
      "cell_type": "code",
      "source": [
        "# encoding\n",
        "le = LabelEncoder()\n",
        "le.fit(df['online_order'])\n",
        "df['online_order'] = le.transform(df['online_order')\n",
        "\n",
        "le.fit(df['book_table'])\n",
        "df['book_table'] = le.transform(df['book_table')\n",
        "\n",
        "le.fit(df[''])\n",
        "df[''] = le.transform(df['')"
      ],
      "metadata": {
        "id": "ysdO3iZNpbf-"
      },
      "execution_count": null,
      "outputs": []
    },
    {
      "cell_type": "code",
      "source": [
        "# to get rid of comma eg: 1,000 - 1000\n",
        "df['approx_cost(for two people'] = df['approx_cost(for two people'].replace(\",\",\"\") #replacing\n",
        "print(df['approx_cost(for two people'].replace(\",\",\"\").unique()) #replacing and printing unique values"
      ],
      "metadata": {
        "id": "ibqVK3ofrkuq"
      },
      "execution_count": null,
      "outputs": []
    },
    {
      "cell_type": "code",
      "source": [
        "# to convert the replaced string to int\n",
        "pd.to_numeric(df['approx_cost(for two people'])"
      ],
      "metadata": {
        "id": "162qddSzsR9t"
      },
      "execution_count": null,
      "outputs": []
    },
    {
      "cell_type": "code",
      "source": [
        "# with the 4 columns i need to check wheather the table is booked or not - case\n",
        "#splitting data\n",
        "X = df.drop(df['book_table'],axis=1)\n",
        "y = df['book_table']\n",
        "X_train,X_test,y_train,y_test = train_test_split(X,y,test_size = 0.3) #to split the data for training model and testing model\n"
      ],
      "metadata": {
        "id": "pIf0gyvWtFBc"
      },
      "execution_count": null,
      "outputs": []
    },
    {
      "cell_type": "code",
      "source": [
        "#prediction\n",
        "\n",
        "dt = DecisionTreeClassifier()\n",
        "dt.fit(X_train,y_train)\n",
        "prediction = dt.predict(X_train)\n",
        "\n",
        "#to check performance (train data)\n",
        "print(confusion_matrix(y_train,prediction))\n",
        "print(accuracy_score(y_train,prediction))"
      ],
      "metadata": {
        "id": "Fry8mgB_vPpc"
      },
      "execution_count": null,
      "outputs": []
    },
    {
      "cell_type": "code",
      "source": [
        "#prediction (random forest)\n",
        "\n",
        "rf = RandomForestClassifier()\n",
        "rf.fit(X_train,y_train)\n",
        "prediction = rf.predict(X_train)\n",
        "\n",
        "#to check performance (train data) - random forest\n",
        "print(confusion_matrix(y_train,prediction))\n",
        "print(accuracy_score(y_train,prediction))\n"
      ],
      "metadata": {
        "id": "6xihqfD4xI1S"
      },
      "execution_count": null,
      "outputs": []
    },
    {
      "cell_type": "code",
      "source": [
        "#prediction(adaboost)\n",
        "\n",
        "ab = AdaBoostClassifier()\n",
        "ab.fit(X_train,y_train)\n",
        "prediction = ab.predict(X_train)\n",
        "\n",
        "#to check performance (train data) - adaboost\n",
        "print(confusion_matrix(y_train,prediction))\n",
        "print(accuracy_score(y_train,prediction))"
      ],
      "metadata": {
        "id": "NLCFLUu1xaC-"
      },
      "execution_count": null,
      "outputs": []
    },
    {
      "cell_type": "markdown",
      "source": [
        "we can choose which one is best according to its confussion matrix and accuracy score"
      ],
      "metadata": {
        "id": "Pfn3Gk9zyn8C"
      }
    }
  ]
}