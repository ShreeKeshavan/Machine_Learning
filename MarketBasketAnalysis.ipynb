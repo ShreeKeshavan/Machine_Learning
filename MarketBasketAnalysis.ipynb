{
  "nbformat": 4,
  "nbformat_minor": 0,
  "metadata": {
    "colab": {
      "provenance": [],
      "authorship_tag": "ABX9TyNezCrI4jFVdBtEa9fSL7Nl",
      "include_colab_link": true
    },
    "kernelspec": {
      "name": "python3",
      "display_name": "Python 3"
    },
    "language_info": {
      "name": "python"
    }
  },
  "cells": [
    {
      "cell_type": "markdown",
      "metadata": {
        "id": "view-in-github",
        "colab_type": "text"
      },
      "source": [
        "<a href=\"https://colab.research.google.com/github/ShreeKeshavan/Machine_Learning/blob/main/MarketBasketAnalysis.ipynb\" target=\"_parent\"><img src=\"https://colab.research.google.com/assets/colab-badge.svg\" alt=\"Open In Colab\"/></a>"
      ]
    },
    {
      "cell_type": "code",
      "execution_count": 17,
      "metadata": {
        "id": "tx1YRVHthVT6"
      },
      "outputs": [],
      "source": [
        "import pandas as pd\n",
        "#!pip install apyori\n",
        "from apyori import apriori\n"
      ]
    },
    {
      "cell_type": "code",
      "source": [
        "df = pd.read_csv('/content/Market_Basket_Optimisation.csv')\n",
        "print(df)\n",
        "df = df.head(500)"
      ],
      "metadata": {
        "colab": {
          "base_uri": "https://localhost:8080/"
        },
        "id": "gfBwUEUDiZ4x",
        "outputId": "f7616924-ed8a-4f92-ae22-cdc9259521a2"
      },
      "execution_count": 18,
      "outputs": [
        {
          "output_type": "stream",
          "name": "stdout",
          "text": [
            "              shrimp            almonds      avocado    vegetables mix  \\\n",
            "0            burgers          meatballs         eggs               NaN   \n",
            "1            chutney                NaN          NaN               NaN   \n",
            "2             turkey            avocado          NaN               NaN   \n",
            "3      mineral water               milk   energy bar  whole wheat rice   \n",
            "4     low fat yogurt                NaN          NaN               NaN   \n",
            "...              ...                ...          ...               ...   \n",
            "7495          butter         light mayo  fresh bread               NaN   \n",
            "7496         burgers  frozen vegetables         eggs      french fries   \n",
            "7497         chicken                NaN          NaN               NaN   \n",
            "7498        escalope          green tea          NaN               NaN   \n",
            "7499            eggs    frozen smoothie  yogurt cake    low fat yogurt   \n",
            "\n",
            "     green grapes whole weat flour yams cottage cheese energy drink  \\\n",
            "0             NaN              NaN  NaN            NaN          NaN   \n",
            "1             NaN              NaN  NaN            NaN          NaN   \n",
            "2             NaN              NaN  NaN            NaN          NaN   \n",
            "3       green tea              NaN  NaN            NaN          NaN   \n",
            "4             NaN              NaN  NaN            NaN          NaN   \n",
            "...           ...              ...  ...            ...          ...   \n",
            "7495          NaN              NaN  NaN            NaN          NaN   \n",
            "7496    magazines        green tea  NaN            NaN          NaN   \n",
            "7497          NaN              NaN  NaN            NaN          NaN   \n",
            "7498          NaN              NaN  NaN            NaN          NaN   \n",
            "7499          NaN              NaN  NaN            NaN          NaN   \n",
            "\n",
            "     tomato juice low fat yogurt green tea honey salad mineral water salmon  \\\n",
            "0             NaN            NaN       NaN   NaN   NaN           NaN    NaN   \n",
            "1             NaN            NaN       NaN   NaN   NaN           NaN    NaN   \n",
            "2             NaN            NaN       NaN   NaN   NaN           NaN    NaN   \n",
            "3             NaN            NaN       NaN   NaN   NaN           NaN    NaN   \n",
            "4             NaN            NaN       NaN   NaN   NaN           NaN    NaN   \n",
            "...           ...            ...       ...   ...   ...           ...    ...   \n",
            "7495          NaN            NaN       NaN   NaN   NaN           NaN    NaN   \n",
            "7496          NaN            NaN       NaN   NaN   NaN           NaN    NaN   \n",
            "7497          NaN            NaN       NaN   NaN   NaN           NaN    NaN   \n",
            "7498          NaN            NaN       NaN   NaN   NaN           NaN    NaN   \n",
            "7499          NaN            NaN       NaN   NaN   NaN           NaN    NaN   \n",
            "\n",
            "     antioxydant juice frozen smoothie spinach  olive oil  \n",
            "0                  NaN             NaN     NaN        NaN  \n",
            "1                  NaN             NaN     NaN        NaN  \n",
            "2                  NaN             NaN     NaN        NaN  \n",
            "3                  NaN             NaN     NaN        NaN  \n",
            "4                  NaN             NaN     NaN        NaN  \n",
            "...                ...             ...     ...        ...  \n",
            "7495               NaN             NaN     NaN        NaN  \n",
            "7496               NaN             NaN     NaN        NaN  \n",
            "7497               NaN             NaN     NaN        NaN  \n",
            "7498               NaN             NaN     NaN        NaN  \n",
            "7499               NaN             NaN     NaN        NaN  \n",
            "\n",
            "[7500 rows x 20 columns]\n"
          ]
        }
      ]
    },
    {
      "cell_type": "code",
      "source": [
        "df.fillna(value=0,inplace=True) #fill the nullvalue columns with 0."
      ],
      "metadata": {
        "id": "tXLSbpj6i54l"
      },
      "execution_count": 19,
      "outputs": []
    },
    {
      "cell_type": "code",
      "source": [
        "transactions = []\n",
        "for i in range(len(df)):\n",
        "  single_tran = []\n",
        "  for j in range(0,len(df.columns)):\n",
        "    if df.values[i,j] != 0:\n",
        "      single_tran.append(str(df.values[i,j]))\n",
        "    transactions.append(single_tran)"
      ],
      "metadata": {
        "id": "UbhwOJnNlreN"
      },
      "execution_count": 20,
      "outputs": []
    },
    {
      "cell_type": "code",
      "source": [
        "rules = apriori(transactions,min_support=0.003, min_confidance=0.2,min_lift = 3,min_length=2)\n",
        "# pair of how many number of items are assigned by 'min_length'"
      ],
      "metadata": {
        "id": "tBKm7gnksszk"
      },
      "execution_count": 26,
      "outputs": []
    },
    {
      "cell_type": "code",
      "source": [
        "df = pd.DataFrame(list(rules))\n",
        "support = df.support"
      ],
      "metadata": {
        "id": "gTD6RfwgtGwv"
      },
      "execution_count": 27,
      "outputs": []
    },
    {
      "cell_type": "code",
      "source": [
        "df"
      ],
      "metadata": {
        "colab": {
          "base_uri": "https://localhost:8080/",
          "height": 1087
        },
        "id": "hUt5prKXvdKr",
        "outputId": "90cf1dde-4a48-4592-9fe6-983d22c5d526"
      },
      "execution_count": 31,
      "outputs": [
        {
          "output_type": "execute_result",
          "data": {
            "text/plain": [
              "                                                  items  support  \\\n",
              "0                                    (almonds, burgers)    0.008   \n",
              "1                                       (almonds, eggs)    0.012   \n",
              "2                              (almonds, herb & pepper)    0.004   \n",
              "3                                       (almonds, soup)    0.006   \n",
              "4                               (tomato sauce, almonds)    0.004   \n",
              "...                                                 ...      ...   \n",
              "1700  (milk, burgers, mineral water, eggs, french fr...    0.004   \n",
              "1701  (milk, burgers, mineral water, eggs, pancakes,...    0.004   \n",
              "1702  (milk, burgers, mineral water, french fries, p...    0.004   \n",
              "1703  (milk, mineral water, eggs, french fries, panc...    0.004   \n",
              "1704  (milk, burgers, eggs, mineral water, french fr...    0.004   \n",
              "\n",
              "                                     ordered_statistics  \n",
              "0     [((almonds), (burgers), 0.4444444444444445, 5....  \n",
              "1     [((almonds), (eggs), 0.6666666666666667, 3.236...  \n",
              "2     [((almonds), (herb & pepper), 0.22222222222222...  \n",
              "3     [((almonds), (soup), 0.33333333333333337, 4.38...  \n",
              "4     [((almonds), (tomato sauce), 0.222222222222222...  \n",
              "...                                                 ...  \n",
              "1700  [((burgers), (milk, eggs, mineral water, frenc...  \n",
              "1701  [((burgers), (milk, eggs, mineral water, panca...  \n",
              "1702  [((burgers), (milk, mineral water, french frie...  \n",
              "1703  [((eggs), (milk, mineral water, french fries, ...  \n",
              "1704  [((burgers), (milk, eggs, mineral water, frenc...  \n",
              "\n",
              "[1705 rows x 3 columns]"
            ],
            "text/html": [
              "\n",
              "  <div id=\"df-680f0f8a-9c26-4b71-9cf9-77745defee84\">\n",
              "    <div class=\"colab-df-container\">\n",
              "      <div>\n",
              "<style scoped>\n",
              "    .dataframe tbody tr th:only-of-type {\n",
              "        vertical-align: middle;\n",
              "    }\n",
              "\n",
              "    .dataframe tbody tr th {\n",
              "        vertical-align: top;\n",
              "    }\n",
              "\n",
              "    .dataframe thead th {\n",
              "        text-align: right;\n",
              "    }\n",
              "</style>\n",
              "<table border=\"1\" class=\"dataframe\">\n",
              "  <thead>\n",
              "    <tr style=\"text-align: right;\">\n",
              "      <th></th>\n",
              "      <th>items</th>\n",
              "      <th>support</th>\n",
              "      <th>ordered_statistics</th>\n",
              "    </tr>\n",
              "  </thead>\n",
              "  <tbody>\n",
              "    <tr>\n",
              "      <th>0</th>\n",
              "      <td>(almonds, burgers)</td>\n",
              "      <td>0.008</td>\n",
              "      <td>[((almonds), (burgers), 0.4444444444444445, 5....</td>\n",
              "    </tr>\n",
              "    <tr>\n",
              "      <th>1</th>\n",
              "      <td>(almonds, eggs)</td>\n",
              "      <td>0.012</td>\n",
              "      <td>[((almonds), (eggs), 0.6666666666666667, 3.236...</td>\n",
              "    </tr>\n",
              "    <tr>\n",
              "      <th>2</th>\n",
              "      <td>(almonds, herb &amp; pepper)</td>\n",
              "      <td>0.004</td>\n",
              "      <td>[((almonds), (herb &amp; pepper), 0.22222222222222...</td>\n",
              "    </tr>\n",
              "    <tr>\n",
              "      <th>3</th>\n",
              "      <td>(almonds, soup)</td>\n",
              "      <td>0.006</td>\n",
              "      <td>[((almonds), (soup), 0.33333333333333337, 4.38...</td>\n",
              "    </tr>\n",
              "    <tr>\n",
              "      <th>4</th>\n",
              "      <td>(tomato sauce, almonds)</td>\n",
              "      <td>0.004</td>\n",
              "      <td>[((almonds), (tomato sauce), 0.222222222222222...</td>\n",
              "    </tr>\n",
              "    <tr>\n",
              "      <th>...</th>\n",
              "      <td>...</td>\n",
              "      <td>...</td>\n",
              "      <td>...</td>\n",
              "    </tr>\n",
              "    <tr>\n",
              "      <th>1700</th>\n",
              "      <td>(milk, burgers, mineral water, eggs, french fr...</td>\n",
              "      <td>0.004</td>\n",
              "      <td>[((burgers), (milk, eggs, mineral water, frenc...</td>\n",
              "    </tr>\n",
              "    <tr>\n",
              "      <th>1701</th>\n",
              "      <td>(milk, burgers, mineral water, eggs, pancakes,...</td>\n",
              "      <td>0.004</td>\n",
              "      <td>[((burgers), (milk, eggs, mineral water, panca...</td>\n",
              "    </tr>\n",
              "    <tr>\n",
              "      <th>1702</th>\n",
              "      <td>(milk, burgers, mineral water, french fries, p...</td>\n",
              "      <td>0.004</td>\n",
              "      <td>[((burgers), (milk, mineral water, french frie...</td>\n",
              "    </tr>\n",
              "    <tr>\n",
              "      <th>1703</th>\n",
              "      <td>(milk, mineral water, eggs, french fries, panc...</td>\n",
              "      <td>0.004</td>\n",
              "      <td>[((eggs), (milk, mineral water, french fries, ...</td>\n",
              "    </tr>\n",
              "    <tr>\n",
              "      <th>1704</th>\n",
              "      <td>(milk, burgers, eggs, mineral water, french fr...</td>\n",
              "      <td>0.004</td>\n",
              "      <td>[((burgers), (milk, eggs, mineral water, frenc...</td>\n",
              "    </tr>\n",
              "  </tbody>\n",
              "</table>\n",
              "<p>1705 rows × 3 columns</p>\n",
              "</div>\n",
              "      <button class=\"colab-df-convert\" onclick=\"convertToInteractive('df-680f0f8a-9c26-4b71-9cf9-77745defee84')\"\n",
              "              title=\"Convert this dataframe to an interactive table.\"\n",
              "              style=\"display:none;\">\n",
              "        \n",
              "  <svg xmlns=\"http://www.w3.org/2000/svg\" height=\"24px\"viewBox=\"0 0 24 24\"\n",
              "       width=\"24px\">\n",
              "    <path d=\"M0 0h24v24H0V0z\" fill=\"none\"/>\n",
              "    <path d=\"M18.56 5.44l.94 2.06.94-2.06 2.06-.94-2.06-.94-.94-2.06-.94 2.06-2.06.94zm-11 1L8.5 8.5l.94-2.06 2.06-.94-2.06-.94L8.5 2.5l-.94 2.06-2.06.94zm10 10l.94 2.06.94-2.06 2.06-.94-2.06-.94-.94-2.06-.94 2.06-2.06.94z\"/><path d=\"M17.41 7.96l-1.37-1.37c-.4-.4-.92-.59-1.43-.59-.52 0-1.04.2-1.43.59L10.3 9.45l-7.72 7.72c-.78.78-.78 2.05 0 2.83L4 21.41c.39.39.9.59 1.41.59.51 0 1.02-.2 1.41-.59l7.78-7.78 2.81-2.81c.8-.78.8-2.07 0-2.86zM5.41 20L4 18.59l7.72-7.72 1.47 1.35L5.41 20z\"/>\n",
              "  </svg>\n",
              "      </button>\n",
              "      \n",
              "  <style>\n",
              "    .colab-df-container {\n",
              "      display:flex;\n",
              "      flex-wrap:wrap;\n",
              "      gap: 12px;\n",
              "    }\n",
              "\n",
              "    .colab-df-convert {\n",
              "      background-color: #E8F0FE;\n",
              "      border: none;\n",
              "      border-radius: 50%;\n",
              "      cursor: pointer;\n",
              "      display: none;\n",
              "      fill: #1967D2;\n",
              "      height: 32px;\n",
              "      padding: 0 0 0 0;\n",
              "      width: 32px;\n",
              "    }\n",
              "\n",
              "    .colab-df-convert:hover {\n",
              "      background-color: #E2EBFA;\n",
              "      box-shadow: 0px 1px 2px rgba(60, 64, 67, 0.3), 0px 1px 3px 1px rgba(60, 64, 67, 0.15);\n",
              "      fill: #174EA6;\n",
              "    }\n",
              "\n",
              "    [theme=dark] .colab-df-convert {\n",
              "      background-color: #3B4455;\n",
              "      fill: #D2E3FC;\n",
              "    }\n",
              "\n",
              "    [theme=dark] .colab-df-convert:hover {\n",
              "      background-color: #434B5C;\n",
              "      box-shadow: 0px 1px 3px 1px rgba(0, 0, 0, 0.15);\n",
              "      filter: drop-shadow(0px 1px 2px rgba(0, 0, 0, 0.3));\n",
              "      fill: #FFFFFF;\n",
              "    }\n",
              "  </style>\n",
              "\n",
              "      <script>\n",
              "        const buttonEl =\n",
              "          document.querySelector('#df-680f0f8a-9c26-4b71-9cf9-77745defee84 button.colab-df-convert');\n",
              "        buttonEl.style.display =\n",
              "          google.colab.kernel.accessAllowed ? 'block' : 'none';\n",
              "\n",
              "        async function convertToInteractive(key) {\n",
              "          const element = document.querySelector('#df-680f0f8a-9c26-4b71-9cf9-77745defee84');\n",
              "          const dataTable =\n",
              "            await google.colab.kernel.invokeFunction('convertToInteractive',\n",
              "                                                     [key], {});\n",
              "          if (!dataTable) return;\n",
              "\n",
              "          const docLinkHtml = 'Like what you see? Visit the ' +\n",
              "            '<a target=\"_blank\" href=https://colab.research.google.com/notebooks/data_table.ipynb>data table notebook</a>'\n",
              "            + ' to learn more about interactive tables.';\n",
              "          element.innerHTML = '';\n",
              "          dataTable['output_type'] = 'display_data';\n",
              "          await google.colab.output.renderOutput(dataTable, element);\n",
              "          const docLink = document.createElement('div');\n",
              "          docLink.innerHTML = docLinkHtml;\n",
              "          element.appendChild(docLink);\n",
              "        }\n",
              "      </script>\n",
              "    </div>\n",
              "  </div>\n",
              "  "
            ]
          },
          "metadata": {},
          "execution_count": 31
        }
      ]
    }
  ]
}