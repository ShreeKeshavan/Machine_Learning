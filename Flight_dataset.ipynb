{
  "nbformat": 4,
  "nbformat_minor": 0,
  "metadata": {
    "colab": {
      "provenance": [],
      "authorship_tag": "ABX9TyNhXJdksHWGgr0gDP2MdQK8",
      "include_colab_link": true
    },
    "kernelspec": {
      "name": "python3",
      "display_name": "Python 3"
    },
    "language_info": {
      "name": "python"
    }
  },
  "cells": [
    {
      "cell_type": "markdown",
      "metadata": {
        "id": "view-in-github",
        "colab_type": "text"
      },
      "source": [
        "<a href=\"https://colab.research.google.com/github/ShreeKeshavan/Machine_Learning/blob/main/Flight_dataset.ipynb\" target=\"_parent\"><img src=\"https://colab.research.google.com/assets/colab-badge.svg\" alt=\"Open In Colab\"/></a>"
      ]
    },
    {
      "cell_type": "markdown",
      "source": [
        "# **Linear Regression**"
      ],
      "metadata": {
        "id": "6OWaDashag2Y"
      }
    },
    {
      "cell_type": "markdown",
      "source": [
        " **Using the flight dataset predicting in the upcoming years what will be the number of passengers we can expect or get.**"
      ],
      "metadata": {
        "id": "pRvkTzkyaVgV"
      }
    },
    {
      "cell_type": "code",
      "execution_count": null,
      "metadata": {
        "id": "PKjmrLUmZMVB"
      },
      "outputs": [],
      "source": [
        "import matplotlib.pyplot as plt\n",
        "import pandas as pd\n",
        "import seaborn as sns\n",
        "from sklearn.preprocessing import LabelEncoder\n",
        "from sklearn.linear_model import LinearRegression,Lasso,Ridge\n",
        "from sklearn.model_selection import train_test_split\n",
        "from sklearn.metrics import mean_squared_error"
      ]
    },
    {
      "cell_type": "markdown",
      "source": [
        "## **Loading Dataset**"
      ],
      "metadata": {
        "id": "ebwmCDKPaZLO"
      }
    },
    {
      "cell_type": "code",
      "source": [
        "df = sns.load_dataset('flights')\n",
        "print(df)"
      ],
      "metadata": {
        "colab": {
          "base_uri": "https://localhost:8080/"
        },
        "id": "ZupTK08taXlk",
        "outputId": "68911dcd-f02a-4b53-bc4a-dc65eaff2e12"
      },
      "execution_count": null,
      "outputs": [
        {
          "output_type": "stream",
          "name": "stdout",
          "text": [
            "     year month  passengers\n",
            "0    1949   Jan         112\n",
            "1    1949   Feb         118\n",
            "2    1949   Mar         132\n",
            "3    1949   Apr         129\n",
            "4    1949   May         121\n",
            "..    ...   ...         ...\n",
            "139  1960   Aug         606\n",
            "140  1960   Sep         508\n",
            "141  1960   Oct         461\n",
            "142  1960   Nov         390\n",
            "143  1960   Dec         432\n",
            "\n",
            "[144 rows x 3 columns]\n"
          ]
        }
      ]
    },
    {
      "cell_type": "markdown",
      "source": [
        "## **Encoding**"
      ],
      "metadata": {
        "id": "lNn-oBAlbcj5"
      }
    },
    {
      "cell_type": "code",
      "source": [
        "#Label Encoding\n",
        "le = LabelEncoder() #converting categorical to numeric values creating object \n",
        "\n",
        "#fitting\n",
        "le.fit(df['month'])\n",
        "df['month'] = le.transform(df['month'])\n",
        "\n",
        "print(df)\n",
        "\n"
      ],
      "metadata": {
        "id": "J2zMFmZ0bczj",
        "colab": {
          "base_uri": "https://localhost:8080/"
        },
        "outputId": "0d6587e8-a6e5-4a98-b900-9f8a1a994ad5"
      },
      "execution_count": null,
      "outputs": [
        {
          "output_type": "stream",
          "name": "stdout",
          "text": [
            "     year  month  passengers\n",
            "0    1949      4         112\n",
            "1    1949      3         118\n",
            "2    1949      7         132\n",
            "3    1949      0         129\n",
            "4    1949      8         121\n",
            "..    ...    ...         ...\n",
            "139  1960      1         606\n",
            "140  1960     11         508\n",
            "141  1960     10         461\n",
            "142  1960      9         390\n",
            "143  1960      2         432\n",
            "\n",
            "[144 rows x 3 columns]\n"
          ]
        }
      ]
    },
    {
      "cell_type": "markdown",
      "source": [
        "Splitting"
      ],
      "metadata": {
        "id": "FPUxSYR4ePlk"
      }
    },
    {
      "cell_type": "code",
      "source": [
        "# X is independent values, y is dependent values\n",
        "X = df[['year','month']]\n",
        "y = df['passengers']\n",
        "\n",
        "train_test_split(X,y,test_size=0.2) #to split the data\n",
        "X_train,X_test,y_train,y_test = train_test_split(X,y,test_size=0.2)\n"
      ],
      "metadata": {
        "id": "IdgpoiIeePyc"
      },
      "execution_count": null,
      "outputs": []
    },
    {
      "cell_type": "markdown",
      "source": [
        "Predicting"
      ],
      "metadata": {
        "id": "7E55J5fDfxp7"
      }
    },
    {
      "cell_type": "code",
      "source": [
        "#Predicting\n",
        "lr = LinearRegression() #creating object to library function\n",
        "lr.fit(X_train,y_train) #fitting training data\n",
        "train_prediction = lr.predict(X_train) #only independent feature should be give for prediction\n",
        "test_prediction = lr.predict(X_test)"
      ],
      "metadata": {
        "id": "5gLMyhorfx4w"
      },
      "execution_count": null,
      "outputs": []
    },
    {
      "cell_type": "markdown",
      "source": [
        "Error"
      ],
      "metadata": {
        "id": "CaewIpujft7d"
      }
    },
    {
      "cell_type": "code",
      "source": [
        "#Mean_squared_error\n",
        "print(\"Mean squared error Train : \",mean_squared_error(y_train,train_prediction))\n",
        "print(\"Mean squared error Test : \",mean_squared_error(y_test,test_prediction))\n",
        "\n"
      ],
      "metadata": {
        "colab": {
          "base_uri": "https://localhost:8080/"
        },
        "id": "2WEZAZ4jfuMU",
        "outputId": "3e1c8ded-6812-4bd9-fa96-2a93c87e015c"
      },
      "execution_count": null,
      "outputs": [
        {
          "output_type": "stream",
          "name": "stdout",
          "text": [
            "Mean squared error Train :  2188.4099161784097\n",
            "Mean squared error Test :  1911.1075047393163\n"
          ]
        }
      ]
    },
    {
      "cell_type": "markdown",
      "source": [
        "to run the mean error for more time and computing the average mean of the error of 1000times"
      ],
      "metadata": {
        "id": "Adb0fnqRkVHH"
      }
    },
    {
      "cell_type": "code",
      "source": [
        "train_error = []\n",
        "test_error = []\n",
        "for index in range(1000):\n",
        "  X_train,X_test,y_train,y_test = train_test_split(X,y,test_size=0.2)\n",
        "  \n",
        "  lr = LinearRegression()\n",
        "  lr.fit(X_train,y_train) \n",
        "  train_prediction = lr.predict(X_train) \n",
        "  test_prediction = lr.predict(X_test)\n",
        "  train_error.append(mean_squared_error(y_train,train_prediction))\n",
        "  train_error.append(mean_squared_error(y_test,test_prediction))\n",
        "\n",
        "print(\"Mean squared error Train : \", sum(train_error)/len(train_error))\n",
        "print(\"Mean squared error Test : \", sum(test_error)/len(test_error))\n",
        "\n",
        "  "
      ],
      "metadata": {
        "id": "kGfiPuamkTZq"
      },
      "execution_count": null,
      "outputs": []
    },
    {
      "cell_type": "markdown",
      "source": [
        "this is under fitting to decrease the error we need to increase datasize or increase columns/features "
      ],
      "metadata": {
        "id": "A6-MHyXVjv-b"
      }
    }
  ]
}